{
 "cells": [
  {
   "cell_type": "code",
   "execution_count": 1,
   "metadata": {},
   "outputs": [],
   "source": [
    "import torch as t\n",
    "import torch.nn.functional as F\n",
    "from tqdm import tqdm\n",
    "from models.Autoencoder import Autoencoder\n",
    "from torchvision import datasets, transforms"
   ]
  },
  {
   "cell_type": "code",
   "execution_count": 2,
   "metadata": {},
   "outputs": [],
   "source": [
    "import os\n",
    "os.environ['CUDA_VISIBLE_DIVICE']='0,1'"
   ]
  },
  {
   "cell_type": "code",
   "execution_count": 3,
   "metadata": {},
   "outputs": [
    {
     "data": {
      "text/plain": [
       "2"
      ]
     },
     "execution_count": 3,
     "metadata": {},
     "output_type": "execute_result"
    }
   ],
   "source": [
    "t.cuda.device_count()"
   ]
  },
  {
   "cell_type": "code",
   "execution_count": 4,
   "metadata": {},
   "outputs": [
    {
     "data": {
      "text/plain": [
       "'GeForce RTX 3080 Ti'"
      ]
     },
     "execution_count": 4,
     "metadata": {},
     "output_type": "execute_result"
    }
   ],
   "source": [
    "t.cuda.get_device_name('cuda:0')"
   ]
  },
  {
   "cell_type": "code",
   "execution_count": 5,
   "metadata": {},
   "outputs": [
    {
     "data": {
      "text/plain": [
       "(8, 6)"
      ]
     },
     "execution_count": 5,
     "metadata": {},
     "output_type": "execute_result"
    }
   ],
   "source": [
    "t.cuda.get_device_capability('cuda:1')"
   ]
  },
  {
   "cell_type": "code",
   "execution_count": 6,
   "metadata": {},
   "outputs": [],
   "source": [
    "de = t.device('cuda:1')"
   ]
  },
  {
   "cell_type": "code",
   "execution_count": 7,
   "metadata": {},
   "outputs": [
    {
     "data": {
      "text/plain": [
       "tensor([[-1.0797,  0.9926],\n",
       "        [-0.6690, -1.9588]], device='cuda:1')"
      ]
     },
     "execution_count": 7,
     "metadata": {},
     "output_type": "execute_result"
    }
   ],
   "source": [
    "t.randn(2,2).to(de)"
   ]
  },
  {
   "cell_type": "code",
   "execution_count": 8,
   "metadata": {},
   "outputs": [
    {
     "data": {
      "text/plain": [
       "tensor([[ 0.0465, -0.6211],\n",
       "        [ 0.2172, -1.3111]], device='cuda:1')"
      ]
     },
     "execution_count": 8,
     "metadata": {},
     "output_type": "execute_result"
    }
   ],
   "source": [
    "t.randn(2,2).cuda(de)"
   ]
  },
  {
   "cell_type": "code",
   "execution_count": 9,
   "metadata": {},
   "outputs": [],
   "source": [
    "# t.cuda.empty_cache()"
   ]
  },
  {
   "cell_type": "code",
   "execution_count": 10,
   "metadata": {},
   "outputs": [],
   "source": [
    "bs = 512\n",
    "train_ds = datasets.MNIST(root='/home/new1006/ljh/data', train=True, transform=transforms.ToTensor(), download=True)\n",
    "train_dl = t.utils.data.DataLoader(dataset=train_ds, batch_size=bs, shuffle=True, drop_last=True)"
   ]
  },
  {
   "cell_type": "code",
   "execution_count": 11,
   "metadata": {},
   "outputs": [
    {
     "data": {
      "text/plain": [
       "Dataset MNIST\n",
       "    Number of datapoints: 60000\n",
       "    Root location: /home/new1006/ljh/data\n",
       "    Split: Train\n",
       "    StandardTransform\n",
       "Transform: ToTensor()"
      ]
     },
     "execution_count": 11,
     "metadata": {},
     "output_type": "execute_result"
    }
   ],
   "source": [
    "train_ds"
   ]
  },
  {
   "cell_type": "code",
   "execution_count": 12,
   "metadata": {},
   "outputs": [
    {
     "data": {
      "text/plain": [
       "<torch.utils.data.dataloader.DataLoader at 0x7f6e348de970>"
      ]
     },
     "execution_count": 12,
     "metadata": {},
     "output_type": "execute_result"
    }
   ],
   "source": [
    "train_dl"
   ]
  },
  {
   "cell_type": "code",
   "execution_count": 13,
   "metadata": {},
   "outputs": [
    {
     "name": "stdout",
     "output_type": "stream",
     "text": [
      "torch.Size([1, 28, 28]) 5\n",
      "torch.Size([1, 28, 28]) 0\n",
      "torch.Size([1, 28, 28]) 4\n",
      "torch.Size([1, 28, 28]) 1\n",
      "torch.Size([1, 28, 28]) 9\n",
      "torch.Size([1, 28, 28]) 2\n",
      "torch.Size([1, 28, 28]) 1\n",
      "torch.Size([1, 28, 28]) 3\n",
      "torch.Size([1, 28, 28]) 1\n",
      "torch.Size([1, 28, 28]) 4\n"
     ]
    }
   ],
   "source": [
    "for i in range(10):\n",
    "    print(train_ds[i][0].shape, train_ds[i][1])"
   ]
  },
  {
   "cell_type": "code",
   "execution_count": 14,
   "metadata": {},
   "outputs": [
    {
     "data": {
      "text/plain": [
       "torch.Size([1, 28, 28])"
      ]
     },
     "execution_count": 14,
     "metadata": {},
     "output_type": "execute_result"
    }
   ],
   "source": [
    "train_ds[0][0].size()"
   ]
  },
  {
   "cell_type": "code",
   "execution_count": 15,
   "metadata": {},
   "outputs": [
    {
     "data": {
      "text/plain": [
       "5"
      ]
     },
     "execution_count": 15,
     "metadata": {},
     "output_type": "execute_result"
    }
   ],
   "source": [
    "train_ds[0][1]"
   ]
  },
  {
   "cell_type": "code",
   "execution_count": 16,
   "metadata": {},
   "outputs": [
    {
     "data": {
      "text/plain": [
       "torch.Size([1, 1, 28, 28])"
      ]
     },
     "execution_count": 16,
     "metadata": {},
     "output_type": "execute_result"
    }
   ],
   "source": [
    "train_ds[0][0][None].shape"
   ]
  },
  {
   "cell_type": "code",
   "execution_count": 17,
   "metadata": {},
   "outputs": [
    {
     "data": {
      "text/plain": [
       "torch.Size([1, 1, 28, 28])"
      ]
     },
     "execution_count": 17,
     "metadata": {},
     "output_type": "execute_result"
    }
   ],
   "source": [
    "train_ds[0][0].unsqueeze(0).shape"
   ]
  },
  {
   "cell_type": "code",
   "execution_count": 18,
   "metadata": {},
   "outputs": [],
   "source": [
    "# train_ds[0][0][None] == train_ds[0][0].unsqueeze(0)"
   ]
  },
  {
   "cell_type": "code",
   "execution_count": 19,
   "metadata": {},
   "outputs": [
    {
     "data": {
      "text/plain": [
       "Autoencoder(\n",
       "  (enc_conv_layers): Sequential(\n",
       "    (0): Sequential(\n",
       "      (0): Conv2d(1, 32, kernel_size=(3, 3), stride=(1, 1), padding=(1, 1))\n",
       "      (1): LeakyReLU(negative_slope=0.01)\n",
       "      (2): BatchNorm2d(32, eps=1e-05, momentum=0.1, affine=True, track_running_stats=True)\n",
       "      (3): Dropout(p=0.25, inplace=False)\n",
       "    )\n",
       "    (1): Sequential(\n",
       "      (0): Conv2d(32, 64, kernel_size=(3, 3), stride=(2, 2), padding=(1, 1))\n",
       "      (1): LeakyReLU(negative_slope=0.01)\n",
       "      (2): BatchNorm2d(64, eps=1e-05, momentum=0.1, affine=True, track_running_stats=True)\n",
       "      (3): Dropout(p=0.25, inplace=False)\n",
       "    )\n",
       "    (2): Sequential(\n",
       "      (0): Conv2d(64, 64, kernel_size=(3, 3), stride=(2, 2), padding=(1, 1))\n",
       "      (1): LeakyReLU(negative_slope=0.01)\n",
       "      (2): BatchNorm2d(64, eps=1e-05, momentum=0.1, affine=True, track_running_stats=True)\n",
       "      (3): Dropout(p=0.25, inplace=False)\n",
       "    )\n",
       "    (3): Sequential(\n",
       "      (0): Conv2d(64, 64, kernel_size=(3, 3), stride=(1, 1), padding=(1, 1))\n",
       "      (1): LeakyReLU(negative_slope=0.01)\n",
       "      (2): BatchNorm2d(64, eps=1e-05, momentum=0.1, affine=True, track_running_stats=True)\n",
       "      (3): Dropout(p=0.25, inplace=False)\n",
       "    )\n",
       "    (4): Flatten()\n",
       "    (5): Linear(in_features=3136, out_features=2, bias=True)\n",
       "  )\n",
       "  (dec_conv_layers): Sequential(\n",
       "    (0): Linear(in_features=2, out_features=3136, bias=True)\n",
       "    (1): View()\n",
       "    (2): Sequential(\n",
       "      (0): ConvTranspose2d(64, 64, kernel_size=(3, 3), stride=(1, 1), padding=(1, 1))\n",
       "      (1): LeakyReLU(negative_slope=0.01)\n",
       "      (2): BatchNorm2d(64, eps=1e-05, momentum=0.1, affine=True, track_running_stats=True)\n",
       "      (3): Dropout(p=0.25, inplace=False)\n",
       "    )\n",
       "    (3): Sequential(\n",
       "      (0): ConvTranspose2d(64, 64, kernel_size=(3, 3), stride=(2, 2), padding=(1, 1), output_padding=(1, 1))\n",
       "      (1): LeakyReLU(negative_slope=0.01)\n",
       "      (2): BatchNorm2d(64, eps=1e-05, momentum=0.1, affine=True, track_running_stats=True)\n",
       "      (3): Dropout(p=0.25, inplace=False)\n",
       "    )\n",
       "    (4): Sequential(\n",
       "      (0): ConvTranspose2d(64, 32, kernel_size=(3, 3), stride=(2, 2), padding=(1, 1), output_padding=(1, 1))\n",
       "      (1): LeakyReLU(negative_slope=0.01)\n",
       "      (2): BatchNorm2d(32, eps=1e-05, momentum=0.1, affine=True, track_running_stats=True)\n",
       "      (3): Dropout(p=0.25, inplace=False)\n",
       "    )\n",
       "    (5): Sequential(\n",
       "      (0): ConvTranspose2d(32, 1, kernel_size=(3, 3), stride=(1, 1), padding=(1, 1))\n",
       "      (1): Sigmoid()\n",
       "    )\n",
       "  )\n",
       ")"
      ]
     },
     "execution_count": 19,
     "metadata": {},
     "output_type": "execute_result"
    }
   ],
   "source": [
    "device = t.device('cuda:0') if t.cuda.is_available() else 'cpu'\n",
    "# model = Autoencoder(train_ds[0][0][None], in_c=1, enc_out_c=[32, 64, 64, 64],\n",
    "#                     enc_ks=[3, 3, 3, 3], enc_pads=[1, 1, 0, 1], enc_strides=[1, 2, 2, 1],\n",
    "#                     dec_out_c=[64, 64, 32, 1], dec_ks=[3, 3, 3, 3], dec_strides=[1, 2, 2, 1],\n",
    "#                     dec_pads=[1, 0, 1, 1], dec_op_pads=[0, 1, 1, 0], z_dim=2)\n",
    "model = Autoencoder(train_ds[0][0][None], in_c=1, enc_out_c=[32, 64, 64, 64],\n",
    "                    enc_ks=[3, 3, 3, 3], enc_pads=[1, 1, 1, 1], enc_strides=[1, 2, 2, 1],\n",
    "                    dec_out_c=[64, 64, 32, 1], dec_ks=[3, 3, 3, 3], dec_strides=[1, 2, 2, 1],\n",
    "                    dec_pads=[1, 1, 1, 1], dec_op_pads=[0, 1, 1, 0], z_dim=2)\n",
    "model.cuda(device)"
   ]
  },
  {
   "cell_type": "code",
   "execution_count": 20,
   "metadata": {},
   "outputs": [
    {
     "data": {
      "text/plain": [
       "device(type='cuda', index=0)"
      ]
     },
     "execution_count": 20,
     "metadata": {},
     "output_type": "execute_result"
    }
   ],
   "source": [
    "device"
   ]
  },
  {
   "cell_type": "code",
   "execution_count": 21,
   "metadata": {},
   "outputs": [],
   "source": [
    "from torchsummary import summary"
   ]
  },
  {
   "cell_type": "code",
   "execution_count": 22,
   "metadata": {},
   "outputs": [
    {
     "name": "stdout",
     "output_type": "stream",
     "text": [
      "----------------------------------------------------------------\n",
      "        Layer (type)               Output Shape         Param #\n",
      "================================================================\n",
      "            Conv2d-1          [512, 32, 28, 28]             320\n",
      "         LeakyReLU-2          [512, 32, 28, 28]               0\n",
      "       BatchNorm2d-3          [512, 32, 28, 28]              64\n",
      "           Dropout-4          [512, 32, 28, 28]               0\n",
      "            Conv2d-5          [512, 64, 14, 14]          18,496\n",
      "         LeakyReLU-6          [512, 64, 14, 14]               0\n",
      "       BatchNorm2d-7          [512, 64, 14, 14]             128\n",
      "           Dropout-8          [512, 64, 14, 14]               0\n",
      "            Conv2d-9            [512, 64, 7, 7]          36,928\n",
      "        LeakyReLU-10            [512, 64, 7, 7]               0\n",
      "      BatchNorm2d-11            [512, 64, 7, 7]             128\n",
      "          Dropout-12            [512, 64, 7, 7]               0\n",
      "           Conv2d-13            [512, 64, 7, 7]          36,928\n",
      "        LeakyReLU-14            [512, 64, 7, 7]               0\n",
      "      BatchNorm2d-15            [512, 64, 7, 7]             128\n",
      "          Dropout-16            [512, 64, 7, 7]               0\n",
      "          Flatten-17                [512, 3136]               0\n",
      "           Linear-18                   [512, 2]           6,274\n",
      "           Linear-19                [512, 3136]           9,408\n",
      "             View-20            [512, 64, 7, 7]               0\n",
      "  ConvTranspose2d-21            [512, 64, 7, 7]          36,928\n",
      "        LeakyReLU-22            [512, 64, 7, 7]               0\n",
      "      BatchNorm2d-23            [512, 64, 7, 7]             128\n",
      "          Dropout-24            [512, 64, 7, 7]               0\n",
      "  ConvTranspose2d-25          [512, 64, 14, 14]          36,928\n",
      "        LeakyReLU-26          [512, 64, 14, 14]               0\n",
      "      BatchNorm2d-27          [512, 64, 14, 14]             128\n",
      "          Dropout-28          [512, 64, 14, 14]               0\n",
      "  ConvTranspose2d-29          [512, 32, 28, 28]          18,464\n",
      "        LeakyReLU-30          [512, 32, 28, 28]               0\n",
      "      BatchNorm2d-31          [512, 32, 28, 28]              64\n",
      "          Dropout-32          [512, 32, 28, 28]               0\n",
      "  ConvTranspose2d-33           [512, 1, 28, 28]             289\n",
      "          Sigmoid-34           [512, 1, 28, 28]               0\n",
      "================================================================\n",
      "Total params: 201,731\n",
      "Trainable params: 201,731\n",
      "Non-trainable params: 0\n",
      "----------------------------------------------------------------\n",
      "Input size (MB): 1.53\n",
      "Forward/backward pass size (MB): 1365.88\n",
      "Params size (MB): 0.77\n",
      "Estimated Total Size (MB): 1368.18\n",
      "----------------------------------------------------------------\n"
     ]
    }
   ],
   "source": [
    "summary(model, input_size=(1, 28, 28), batch_size=512)"
   ]
  },
  {
   "cell_type": "code",
   "execution_count": 23,
   "metadata": {},
   "outputs": [
    {
     "data": {
      "text/plain": [
       "Autoencoder(\n",
       "  (enc_conv_layers): Sequential(\n",
       "    (0): Sequential(\n",
       "      (0): Conv2d(1, 32, kernel_size=(3, 3), stride=(1, 1), padding=(1, 1))\n",
       "      (1): LeakyReLU(negative_slope=0.01)\n",
       "      (2): BatchNorm2d(32, eps=1e-05, momentum=0.1, affine=True, track_running_stats=True)\n",
       "      (3): Dropout(p=0.25, inplace=False)\n",
       "    )\n",
       "    (1): Sequential(\n",
       "      (0): Conv2d(32, 64, kernel_size=(3, 3), stride=(2, 2), padding=(1, 1))\n",
       "      (1): LeakyReLU(negative_slope=0.01)\n",
       "      (2): BatchNorm2d(64, eps=1e-05, momentum=0.1, affine=True, track_running_stats=True)\n",
       "      (3): Dropout(p=0.25, inplace=False)\n",
       "    )\n",
       "    (2): Sequential(\n",
       "      (0): Conv2d(64, 64, kernel_size=(3, 3), stride=(2, 2), padding=(1, 1))\n",
       "      (1): LeakyReLU(negative_slope=0.01)\n",
       "      (2): BatchNorm2d(64, eps=1e-05, momentum=0.1, affine=True, track_running_stats=True)\n",
       "      (3): Dropout(p=0.25, inplace=False)\n",
       "    )\n",
       "    (3): Sequential(\n",
       "      (0): Conv2d(64, 64, kernel_size=(3, 3), stride=(1, 1), padding=(1, 1))\n",
       "      (1): LeakyReLU(negative_slope=0.01)\n",
       "      (2): BatchNorm2d(64, eps=1e-05, momentum=0.1, affine=True, track_running_stats=True)\n",
       "      (3): Dropout(p=0.25, inplace=False)\n",
       "    )\n",
       "    (4): Flatten()\n",
       "    (5): Linear(in_features=3136, out_features=2, bias=True)\n",
       "  )\n",
       "  (dec_conv_layers): Sequential(\n",
       "    (0): Linear(in_features=2, out_features=3136, bias=True)\n",
       "    (1): View()\n",
       "    (2): Sequential(\n",
       "      (0): ConvTranspose2d(64, 64, kernel_size=(3, 3), stride=(1, 1), padding=(1, 1))\n",
       "      (1): LeakyReLU(negative_slope=0.01)\n",
       "      (2): BatchNorm2d(64, eps=1e-05, momentum=0.1, affine=True, track_running_stats=True)\n",
       "      (3): Dropout(p=0.25, inplace=False)\n",
       "    )\n",
       "    (3): Sequential(\n",
       "      (0): ConvTranspose2d(64, 64, kernel_size=(3, 3), stride=(2, 2), padding=(1, 1), output_padding=(1, 1))\n",
       "      (1): LeakyReLU(negative_slope=0.01)\n",
       "      (2): BatchNorm2d(64, eps=1e-05, momentum=0.1, affine=True, track_running_stats=True)\n",
       "      (3): Dropout(p=0.25, inplace=False)\n",
       "    )\n",
       "    (4): Sequential(\n",
       "      (0): ConvTranspose2d(64, 32, kernel_size=(3, 3), stride=(2, 2), padding=(1, 1), output_padding=(1, 1))\n",
       "      (1): LeakyReLU(negative_slope=0.01)\n",
       "      (2): BatchNorm2d(32, eps=1e-05, momentum=0.1, affine=True, track_running_stats=True)\n",
       "      (3): Dropout(p=0.25, inplace=False)\n",
       "    )\n",
       "    (5): Sequential(\n",
       "      (0): ConvTranspose2d(32, 1, kernel_size=(3, 3), stride=(1, 1), padding=(1, 1))\n",
       "      (1): Sigmoid()\n",
       "    )\n",
       "  )\n",
       ")"
      ]
     },
     "execution_count": 23,
     "metadata": {},
     "output_type": "execute_result"
    }
   ],
   "source": [
    "model"
   ]
  },
  {
   "cell_type": "code",
   "execution_count": 24,
   "metadata": {},
   "outputs": [
    {
     "name": "stdout",
     "output_type": "stream",
     "text": [
      "enc_conv_layers.0.0.weight torch.Size([32, 1, 3, 3])\n",
      "enc_conv_layers.0.0.bias torch.Size([32])\n",
      "enc_conv_layers.0.2.weight torch.Size([32])\n",
      "enc_conv_layers.0.2.bias torch.Size([32])\n",
      "enc_conv_layers.1.0.weight torch.Size([64, 32, 3, 3])\n",
      "enc_conv_layers.1.0.bias torch.Size([64])\n",
      "enc_conv_layers.1.2.weight torch.Size([64])\n",
      "enc_conv_layers.1.2.bias torch.Size([64])\n",
      "enc_conv_layers.2.0.weight torch.Size([64, 64, 3, 3])\n",
      "enc_conv_layers.2.0.bias torch.Size([64])\n",
      "enc_conv_layers.2.2.weight torch.Size([64])\n",
      "enc_conv_layers.2.2.bias torch.Size([64])\n",
      "enc_conv_layers.3.0.weight torch.Size([64, 64, 3, 3])\n",
      "enc_conv_layers.3.0.bias torch.Size([64])\n",
      "enc_conv_layers.3.2.weight torch.Size([64])\n",
      "enc_conv_layers.3.2.bias torch.Size([64])\n",
      "enc_conv_layers.5.weight torch.Size([2, 3136])\n",
      "enc_conv_layers.5.bias torch.Size([2])\n",
      "dec_conv_layers.0.weight torch.Size([3136, 2])\n",
      "dec_conv_layers.0.bias torch.Size([3136])\n",
      "dec_conv_layers.2.0.weight torch.Size([64, 64, 3, 3])\n",
      "dec_conv_layers.2.0.bias torch.Size([64])\n",
      "dec_conv_layers.2.2.weight torch.Size([64])\n",
      "dec_conv_layers.2.2.bias torch.Size([64])\n",
      "dec_conv_layers.3.0.weight torch.Size([64, 64, 3, 3])\n",
      "dec_conv_layers.3.0.bias torch.Size([64])\n",
      "dec_conv_layers.3.2.weight torch.Size([64])\n",
      "dec_conv_layers.3.2.bias torch.Size([64])\n",
      "dec_conv_layers.4.0.weight torch.Size([64, 32, 3, 3])\n",
      "dec_conv_layers.4.0.bias torch.Size([32])\n",
      "dec_conv_layers.4.2.weight torch.Size([32])\n",
      "dec_conv_layers.4.2.bias torch.Size([32])\n",
      "dec_conv_layers.5.0.weight torch.Size([32, 1, 3, 3])\n",
      "dec_conv_layers.5.0.bias torch.Size([1])\n"
     ]
    }
   ],
   "source": [
    "for name, p in model.named_parameters():\n",
    "    print(name, p.size())"
   ]
  },
  {
   "cell_type": "code",
   "execution_count": 25,
   "metadata": {},
   "outputs": [],
   "source": [
    "import numpy as np"
   ]
  },
  {
   "cell_type": "code",
   "execution_count": 26,
   "metadata": {},
   "outputs": [
    {
     "data": {
      "text/plain": [
       "6"
      ]
     },
     "execution_count": 26,
     "metadata": {},
     "output_type": "execute_result"
    }
   ],
   "source": [
    "np.prod([1,2,3])"
   ]
  },
  {
   "cell_type": "code",
   "execution_count": null,
   "metadata": {},
   "outputs": [
    {
     "name": "stderr",
     "output_type": "stream",
     "text": [
      "\r",
      "  0%|                                                                                                                                                                                | 0/20 [00:00<?, ?it/s]"
     ]
    },
    {
     "name": "stdout",
     "output_type": "stream",
     "text": [
      "tensor(0.4008, device='cuda:0', grad_fn=<MseLossBackward0>)\n",
      "tensor(0.1185, device='cuda:0', grad_fn=<MseLossBackward0>)\n",
      "tensor(0.0885, device='cuda:0', grad_fn=<MseLossBackward0>)\n",
      "tensor(0.0767, device='cuda:0', grad_fn=<MseLossBackward0>)\n"
     ]
    },
    {
     "name": "stderr",
     "output_type": "stream",
     "text": [
      "\r",
      "  5%|████████▍                                                                                                                                                               | 1/20 [00:09<02:55,  9.26s/it]"
     ]
    },
    {
     "name": "stdout",
     "output_type": "stream",
     "text": [
      "tensor(0.0688, device='cuda:0', grad_fn=<MseLossBackward0>)\n"
     ]
    }
   ],
   "source": [
    "optimizer = t.optim.Adam(model.parameters(), lr=5e-4, betas=(.9, .99), weight_decay=1e-2)\n",
    "model.train()\n",
    "\n",
    "for epoch in tqdm(range(20)):\n",
    "    if epoch == 10:\n",
    "        optimizer = t.optim.Adam(model.parameters(), lr=2e-4, betas=(.9, .99), weight_decay=1e-2)\n",
    "    for i, (data, _) in enumerate(train_dl):\n",
    "        data = data.to(device)\n",
    "        optimizer.zero_grad()\n",
    "        pred = model(data)\n",
    "        loss = F.mse_loss(pred, data)\n",
    "        loss.backward()\n",
    "        optimizer.step()\n",
    "        if i % 33 == 0:\n",
    "            print(loss)\n"
   ]
  },
  {
   "cell_type": "code",
   "execution_count": null,
   "metadata": {},
   "outputs": [],
   "source": [
    "print(loss)\n",
    "t.save(model.state_dict(), 'models/state_dicts/03_01.pth')"
   ]
  },
  {
   "cell_type": "code",
   "execution_count": null,
   "metadata": {},
   "outputs": [],
   "source": [
    "model.state_dict"
   ]
  },
  {
   "cell_type": "code",
   "execution_count": 62,
   "metadata": {},
   "outputs": [
    {
     "data": {
      "text/plain": [
       "OrderedDict([('enc_conv_layers',\n",
       "              Sequential(\n",
       "                (0): Sequential(\n",
       "                  (0): Conv2d(1, 32, kernel_size=(3, 3), stride=(1, 1), padding=(1, 1))\n",
       "                  (1): LeakyReLU(negative_slope=0.01)\n",
       "                  (2): BatchNorm2d(32, eps=1e-05, momentum=0.1, affine=True, track_running_stats=True)\n",
       "                  (3): Dropout(p=0.25, inplace=False)\n",
       "                )\n",
       "                (1): Sequential(\n",
       "                  (0): Conv2d(32, 64, kernel_size=(3, 3), stride=(2, 2), padding=(1, 1))\n",
       "                  (1): LeakyReLU(negative_slope=0.01)\n",
       "                  (2): BatchNorm2d(64, eps=1e-05, momentum=0.1, affine=True, track_running_stats=True)\n",
       "                  (3): Dropout(p=0.25, inplace=False)\n",
       "                )\n",
       "                (2): Sequential(\n",
       "                  (0): Conv2d(64, 64, kernel_size=(3, 3), stride=(2, 2), padding=(1, 1))\n",
       "                  (1): LeakyReLU(negative_slope=0.01)\n",
       "                  (2): BatchNorm2d(64, eps=1e-05, momentum=0.1, affine=True, track_running_stats=True)\n",
       "                  (3): Dropout(p=0.25, inplace=False)\n",
       "                )\n",
       "                (3): Sequential(\n",
       "                  (0): Conv2d(64, 64, kernel_size=(3, 3), stride=(1, 1), padding=(1, 1))\n",
       "                  (1): LeakyReLU(negative_slope=0.01)\n",
       "                  (2): BatchNorm2d(64, eps=1e-05, momentum=0.1, affine=True, track_running_stats=True)\n",
       "                  (3): Dropout(p=0.25, inplace=False)\n",
       "                )\n",
       "                (4): Flatten()\n",
       "                (5): Linear(in_features=3136, out_features=2, bias=True)\n",
       "              )),\n",
       "             ('dec_conv_layers',\n",
       "              Sequential(\n",
       "                (0): Linear(in_features=2, out_features=3136, bias=True)\n",
       "                (1): View()\n",
       "                (2): Sequential(\n",
       "                  (0): ConvTranspose2d(64, 64, kernel_size=(3, 3), stride=(1, 1), padding=(1, 1))\n",
       "                  (1): LeakyReLU(negative_slope=0.01)\n",
       "                  (2): BatchNorm2d(64, eps=1e-05, momentum=0.1, affine=True, track_running_stats=True)\n",
       "                  (3): Dropout(p=0.25, inplace=False)\n",
       "                )\n",
       "                (3): Sequential(\n",
       "                  (0): ConvTranspose2d(64, 64, kernel_size=(3, 3), stride=(2, 2), padding=(1, 1), output_padding=(1, 1))\n",
       "                  (1): LeakyReLU(negative_slope=0.01)\n",
       "                  (2): BatchNorm2d(64, eps=1e-05, momentum=0.1, affine=True, track_running_stats=True)\n",
       "                  (3): Dropout(p=0.25, inplace=False)\n",
       "                )\n",
       "                (4): Sequential(\n",
       "                  (0): ConvTranspose2d(64, 32, kernel_size=(3, 3), stride=(2, 2), padding=(1, 1), output_padding=(1, 1))\n",
       "                  (1): LeakyReLU(negative_slope=0.01)\n",
       "                  (2): BatchNorm2d(32, eps=1e-05, momentum=0.1, affine=True, track_running_stats=True)\n",
       "                  (3): Dropout(p=0.25, inplace=False)\n",
       "                )\n",
       "                (5): Sequential(\n",
       "                  (0): ConvTranspose2d(32, 1, kernel_size=(3, 3), stride=(1, 1), padding=(1, 1))\n",
       "                  (1): Sigmoid()\n",
       "                )\n",
       "              ))])"
      ]
     },
     "execution_count": 62,
     "metadata": {},
     "output_type": "execute_result"
    }
   ],
   "source": [
    "model._modules"
   ]
  },
  {
   "cell_type": "code",
   "execution_count": 61,
   "metadata": {},
   "outputs": [
    {
     "data": {
      "text/plain": [
       "{'training': True,\n",
       " '_parameters': OrderedDict(),\n",
       " '_buffers': OrderedDict(),\n",
       " '_non_persistent_buffers_set': set(),\n",
       " '_backward_hooks': OrderedDict(),\n",
       " '_is_full_backward_hook': None,\n",
       " '_forward_hooks': OrderedDict(),\n",
       " '_forward_pre_hooks': OrderedDict(),\n",
       " '_state_dict_hooks': OrderedDict(),\n",
       " '_load_state_dict_pre_hooks': OrderedDict(),\n",
       " '_modules': OrderedDict([('enc_conv_layers',\n",
       "               Sequential(\n",
       "                 (0): Sequential(\n",
       "                   (0): Conv2d(1, 32, kernel_size=(3, 3), stride=(1, 1), padding=(1, 1))\n",
       "                   (1): LeakyReLU(negative_slope=0.01)\n",
       "                   (2): BatchNorm2d(32, eps=1e-05, momentum=0.1, affine=True, track_running_stats=True)\n",
       "                   (3): Dropout(p=0.25, inplace=False)\n",
       "                 )\n",
       "                 (1): Sequential(\n",
       "                   (0): Conv2d(32, 64, kernel_size=(3, 3), stride=(2, 2), padding=(1, 1))\n",
       "                   (1): LeakyReLU(negative_slope=0.01)\n",
       "                   (2): BatchNorm2d(64, eps=1e-05, momentum=0.1, affine=True, track_running_stats=True)\n",
       "                   (3): Dropout(p=0.25, inplace=False)\n",
       "                 )\n",
       "                 (2): Sequential(\n",
       "                   (0): Conv2d(64, 64, kernel_size=(3, 3), stride=(2, 2), padding=(1, 1))\n",
       "                   (1): LeakyReLU(negative_slope=0.01)\n",
       "                   (2): BatchNorm2d(64, eps=1e-05, momentum=0.1, affine=True, track_running_stats=True)\n",
       "                   (3): Dropout(p=0.25, inplace=False)\n",
       "                 )\n",
       "                 (3): Sequential(\n",
       "                   (0): Conv2d(64, 64, kernel_size=(3, 3), stride=(1, 1), padding=(1, 1))\n",
       "                   (1): LeakyReLU(negative_slope=0.01)\n",
       "                   (2): BatchNorm2d(64, eps=1e-05, momentum=0.1, affine=True, track_running_stats=True)\n",
       "                   (3): Dropout(p=0.25, inplace=False)\n",
       "                 )\n",
       "                 (4): Flatten()\n",
       "                 (5): Linear(in_features=3136, out_features=2, bias=True)\n",
       "               )),\n",
       "              ('dec_conv_layers',\n",
       "               Sequential(\n",
       "                 (0): Linear(in_features=2, out_features=3136, bias=True)\n",
       "                 (1): View()\n",
       "                 (2): Sequential(\n",
       "                   (0): ConvTranspose2d(64, 64, kernel_size=(3, 3), stride=(1, 1), padding=(1, 1))\n",
       "                   (1): LeakyReLU(negative_slope=0.01)\n",
       "                   (2): BatchNorm2d(64, eps=1e-05, momentum=0.1, affine=True, track_running_stats=True)\n",
       "                   (3): Dropout(p=0.25, inplace=False)\n",
       "                 )\n",
       "                 (3): Sequential(\n",
       "                   (0): ConvTranspose2d(64, 64, kernel_size=(3, 3), stride=(2, 2), padding=(1, 1), output_padding=(1, 1))\n",
       "                   (1): LeakyReLU(negative_slope=0.01)\n",
       "                   (2): BatchNorm2d(64, eps=1e-05, momentum=0.1, affine=True, track_running_stats=True)\n",
       "                   (3): Dropout(p=0.25, inplace=False)\n",
       "                 )\n",
       "                 (4): Sequential(\n",
       "                   (0): ConvTranspose2d(64, 32, kernel_size=(3, 3), stride=(2, 2), padding=(1, 1), output_padding=(1, 1))\n",
       "                   (1): LeakyReLU(negative_slope=0.01)\n",
       "                   (2): BatchNorm2d(32, eps=1e-05, momentum=0.1, affine=True, track_running_stats=True)\n",
       "                   (3): Dropout(p=0.25, inplace=False)\n",
       "                 )\n",
       "                 (5): Sequential(\n",
       "                   (0): ConvTranspose2d(32, 1, kernel_size=(3, 3), stride=(1, 1), padding=(1, 1))\n",
       "                   (1): Sigmoid()\n",
       "                 )\n",
       "               ))])}"
      ]
     },
     "execution_count": 61,
     "metadata": {},
     "output_type": "execute_result"
    }
   ],
   "source": [
    "model.__dict__"
   ]
  },
  {
   "cell_type": "code",
   "execution_count": null,
   "metadata": {},
   "outputs": [],
   "source": []
  },
  {
   "cell_type": "code",
   "execution_count": null,
   "metadata": {},
   "outputs": [],
   "source": []
  }
 ],
 "metadata": {
  "kernelspec": {
   "display_name": "pytorch_1_10",
   "language": "python",
   "name": "jupyter_kernel_py110"
  },
  "language_info": {
   "codemirror_mode": {
    "name": "ipython",
    "version": 3
   },
   "file_extension": ".py",
   "mimetype": "text/x-python",
   "name": "python",
   "nbconvert_exporter": "python",
   "pygments_lexer": "ipython3",
   "version": "3.8.12"
  }
 },
 "nbformat": 4,
 "nbformat_minor": 2
}
