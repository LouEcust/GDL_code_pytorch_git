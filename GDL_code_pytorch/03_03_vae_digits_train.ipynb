{
 "cells": [
  {
   "cell_type": "markdown",
   "metadata": {},
   "source": [
    "# VAE Training"
   ]
  },
  {
   "cell_type": "code",
   "execution_count": 7,
   "metadata": {},
   "outputs": [],
   "source": [
    "import os\n",
    "os.environ[\"CUDA_VISIBLE_DEVICE\"]=\"0,1\""
   ]
  },
  {
   "cell_type": "code",
   "execution_count": 8,
   "metadata": {},
   "outputs": [
    {
     "data": {
      "text/plain": [
       "VariationalAutoencoder(\n",
       "  (enc_conv_layers): Sequential(\n",
       "    (0): Sequential(\n",
       "      (0): Conv2d(1, 32, kernel_size=(3, 3), stride=(1, 1), padding=(1, 1))\n",
       "      (1): LeakyReLU(negative_slope=0.01)\n",
       "      (2): BatchNorm2d(32, eps=1e-05, momentum=0.1, affine=True, track_running_stats=True)\n",
       "      (3): Dropout(p=0.25, inplace=False)\n",
       "    )\n",
       "    (1): Sequential(\n",
       "      (0): Conv2d(32, 64, kernel_size=(3, 3), stride=(2, 2), padding=(1, 1))\n",
       "      (1): LeakyReLU(negative_slope=0.01)\n",
       "      (2): BatchNorm2d(64, eps=1e-05, momentum=0.1, affine=True, track_running_stats=True)\n",
       "      (3): Dropout(p=0.25, inplace=False)\n",
       "    )\n",
       "    (2): Sequential(\n",
       "      (0): Conv2d(64, 64, kernel_size=(3, 3), stride=(2, 2))\n",
       "      (1): LeakyReLU(negative_slope=0.01)\n",
       "      (2): BatchNorm2d(64, eps=1e-05, momentum=0.1, affine=True, track_running_stats=True)\n",
       "      (3): Dropout(p=0.25, inplace=False)\n",
       "    )\n",
       "    (3): Sequential(\n",
       "      (0): Conv2d(64, 64, kernel_size=(3, 3), stride=(1, 1), padding=(1, 1))\n",
       "      (1): LeakyReLU(negative_slope=0.01)\n",
       "      (2): BatchNorm2d(64, eps=1e-05, momentum=0.1, affine=True, track_running_stats=True)\n",
       "      (3): Dropout(p=0.25, inplace=False)\n",
       "    )\n",
       "    (4): Flatten()\n",
       "    (5): TwoTupleLinear(\n",
       "      (lin1): Linear(in_features=2304, out_features=2, bias=True)\n",
       "      (lin2): Linear(in_features=2304, out_features=2, bias=True)\n",
       "    )\n",
       "  )\n",
       "  (lamdba_sampling_layer): Lambda()\n",
       "  (dec_conv_layers): Sequential(\n",
       "    (0): Linear(in_features=2, out_features=2304, bias=True)\n",
       "    (1): View()\n",
       "    (2): Sequential(\n",
       "      (0): ConvTranspose2d(64, 64, kernel_size=(3, 3), stride=(1, 1), padding=(1, 1))\n",
       "      (1): LeakyReLU(negative_slope=0.01)\n",
       "      (2): BatchNorm2d(64, eps=1e-05, momentum=0.1, affine=True, track_running_stats=True)\n",
       "      (3): Dropout(p=0.25, inplace=False)\n",
       "    )\n",
       "    (3): Sequential(\n",
       "      (0): ConvTranspose2d(64, 64, kernel_size=(3, 3), stride=(2, 2), output_padding=(1, 1))\n",
       "      (1): LeakyReLU(negative_slope=0.01)\n",
       "      (2): BatchNorm2d(64, eps=1e-05, momentum=0.1, affine=True, track_running_stats=True)\n",
       "      (3): Dropout(p=0.25, inplace=False)\n",
       "    )\n",
       "    (4): Sequential(\n",
       "      (0): ConvTranspose2d(64, 32, kernel_size=(3, 3), stride=(2, 2), padding=(1, 1), output_padding=(1, 1))\n",
       "      (1): LeakyReLU(negative_slope=0.01)\n",
       "      (2): BatchNorm2d(32, eps=1e-05, momentum=0.1, affine=True, track_running_stats=True)\n",
       "      (3): Dropout(p=0.25, inplace=False)\n",
       "    )\n",
       "    (5): Sequential(\n",
       "      (0): ConvTranspose2d(32, 1, kernel_size=(3, 3), stride=(1, 1), padding=(1, 1))\n",
       "      (1): Sigmoid()\n",
       "    )\n",
       "  )\n",
       ")"
      ]
     },
     "execution_count": 8,
     "metadata": {},
     "output_type": "execute_result"
    }
   ],
   "source": [
    "import torch as t\n",
    "import torch.nn.functional as F\n",
    "from tqdm import tqdm\n",
    "from models.VariationalAutoencoder import VariationalAutoencoder\n",
    "from torchvision import datasets, transforms\n",
    "\n",
    "bs = 128\n",
    "train_ds = datasets.MNIST(root='./data/', train=True, transform=transforms.ToTensor(), download=True)\n",
    "train_dl = t.utils.data.DataLoader(dataset=train_ds, batch_size=bs, shuffle=True, drop_last=True)\n",
    "\n",
    "device = t.device('cuda') if t.cuda.is_available() else 'cpu'\n",
    "model = VariationalAutoencoder(train_ds[0][0][None], in_c=1, enc_out_c=[32, 64, 64, 64],\n",
    "                    enc_ks=[3, 3, 3, 3], enc_pads=[1, 1, 0, 1], enc_strides=[1, 2, 2, 1],\n",
    "                    dec_out_c=[64, 64, 32, 1], dec_ks=[3, 3, 3, 3], dec_strides=[1, 2, 2, 1],\n",
    "                    dec_pads=[1, 0, 1, 1], dec_op_pads=[0, 1, 1, 0], z_dim=2)\n",
    "model.cuda(device)\n",
    "model.train()"
   ]
  },
  {
   "cell_type": "code",
   "execution_count": 9,
   "metadata": {},
   "outputs": [
    {
     "data": {
      "text/plain": [
       "Dataset MNIST\n",
       "    Number of datapoints: 60000\n",
       "    Root location: ./data/\n",
       "    Split: Train\n",
       "    StandardTransform\n",
       "Transform: ToTensor()"
      ]
     },
     "execution_count": 9,
     "metadata": {},
     "output_type": "execute_result"
    }
   ],
   "source": [
    "train_ds"
   ]
  },
  {
   "cell_type": "code",
   "execution_count": 10,
   "metadata": {},
   "outputs": [
    {
     "data": {
      "text/plain": [
       "14.204545454545455"
      ]
     },
     "execution_count": 10,
     "metadata": {},
     "output_type": "execute_result"
    }
   ],
   "source": [
    "60000/bs/33"
   ]
  },
  {
   "cell_type": "code",
   "execution_count": 24,
   "metadata": {},
   "outputs": [],
   "source": [
    "def vae_kl_loss(mu, log_var):\n",
    "    return -.5 * t.sum(1 + log_var - mu ** 2 - log_var.exp())\n",
    "\n",
    "def vae_loss(y_pred, mu, log_var, y_true):\n",
    "    r_loss = F.binary_cross_entropy(y_pred, y_true, reduction='sum')\n",
    "    r_loss_factor = 1\n",
    "    kl_loss = vae_kl_loss(mu, log_var)\n",
    "    return r_loss_factor*r_loss + kl_loss"
   ]
  },
  {
   "cell_type": "code",
   "execution_count": 25,
   "metadata": {},
   "outputs": [
    {
     "name": "stderr",
     "output_type": "stream",
     "text": [
      "\r",
      "  0%|                                                    | 0/20 [00:00<?, ?it/s]"
     ]
    },
    {
     "name": "stdout",
     "output_type": "stream",
     "text": [
      "tensor(27425.9941, device='cuda:0', grad_fn=<AddBackward0>)\n",
      "tensor(27194.8574, device='cuda:0', grad_fn=<AddBackward0>)\n",
      "tensor(26925.9551, device='cuda:0', grad_fn=<AddBackward0>)\n",
      "tensor(27584.6895, device='cuda:0', grad_fn=<AddBackward0>)\n",
      "tensor(27446.9551, device='cuda:0', grad_fn=<AddBackward0>)\n",
      "tensor(25211.4531, device='cuda:0', grad_fn=<AddBackward0>)\n",
      "tensor(26710.0527, device='cuda:0', grad_fn=<AddBackward0>)\n",
      "tensor(27481.5137, device='cuda:0', grad_fn=<AddBackward0>)\n",
      "tensor(24401.8633, device='cuda:0', grad_fn=<AddBackward0>)\n",
      "tensor(24927.9707, device='cuda:0', grad_fn=<AddBackward0>)\n",
      "tensor(25145.7012, device='cuda:0', grad_fn=<AddBackward0>)\n",
      "tensor(23197.8594, device='cuda:0', grad_fn=<AddBackward0>)\n",
      "tensor(23601.8770, device='cuda:0', grad_fn=<AddBackward0>)\n",
      "tensor(22855.0430, device='cuda:0', grad_fn=<AddBackward0>)\n"
     ]
    },
    {
     "name": "stderr",
     "output_type": "stream",
     "text": [
      "\r",
      "  5%|██▏                                         | 1/20 [00:16<05:19, 16.79s/it]"
     ]
    },
    {
     "name": "stdout",
     "output_type": "stream",
     "text": [
      "tensor(23399.7520, device='cuda:0', grad_fn=<AddBackward0>)\n",
      "tensor(21946.8398, device='cuda:0', grad_fn=<AddBackward0>)\n",
      "tensor(22132.9160, device='cuda:0', grad_fn=<AddBackward0>)\n",
      "tensor(22751.9805, device='cuda:0', grad_fn=<AddBackward0>)\n",
      "tensor(22531.1582, device='cuda:0', grad_fn=<AddBackward0>)\n",
      "tensor(22632.1699, device='cuda:0', grad_fn=<AddBackward0>)\n",
      "tensor(22708.0586, device='cuda:0', grad_fn=<AddBackward0>)\n",
      "tensor(22096.5254, device='cuda:0', grad_fn=<AddBackward0>)\n",
      "tensor(21962.9375, device='cuda:0', grad_fn=<AddBackward0>)\n",
      "tensor(21613.1719, device='cuda:0', grad_fn=<AddBackward0>)\n",
      "tensor(21507.3164, device='cuda:0', grad_fn=<AddBackward0>)\n",
      "tensor(21882.6094, device='cuda:0', grad_fn=<AddBackward0>)\n",
      "tensor(21843.3281, device='cuda:0', grad_fn=<AddBackward0>)\n",
      "tensor(22493.6484, device='cuda:0', grad_fn=<AddBackward0>)\n",
      "tensor(21218.6641, device='cuda:0', grad_fn=<AddBackward0>)\n"
     ]
    },
    {
     "name": "stderr",
     "output_type": "stream",
     "text": [
      "\r",
      " 10%|████▍                                       | 2/20 [00:33<05:03, 16.83s/it]"
     ]
    },
    {
     "name": "stdout",
     "output_type": "stream",
     "text": [
      "tensor(21972.8066, device='cuda:0', grad_fn=<AddBackward0>)\n",
      "tensor(21702.7363, device='cuda:0', grad_fn=<AddBackward0>)\n",
      "tensor(21772.7344, device='cuda:0', grad_fn=<AddBackward0>)\n",
      "tensor(21447.6016, device='cuda:0', grad_fn=<AddBackward0>)\n",
      "tensor(22361.7891, device='cuda:0', grad_fn=<AddBackward0>)\n",
      "tensor(22463.9395, device='cuda:0', grad_fn=<AddBackward0>)\n",
      "tensor(21520.9805, device='cuda:0', grad_fn=<AddBackward0>)\n",
      "tensor(20768.1621, device='cuda:0', grad_fn=<AddBackward0>)\n",
      "tensor(21493.5703, device='cuda:0', grad_fn=<AddBackward0>)\n",
      "tensor(21191.2949, device='cuda:0', grad_fn=<AddBackward0>)\n",
      "tensor(21195.2402, device='cuda:0', grad_fn=<AddBackward0>)\n",
      "tensor(21838.0508, device='cuda:0', grad_fn=<AddBackward0>)\n",
      "tensor(22304.3672, device='cuda:0', grad_fn=<AddBackward0>)\n",
      "tensor(21234.9297, device='cuda:0', grad_fn=<AddBackward0>)\n",
      "tensor(22536.2207, device='cuda:0', grad_fn=<AddBackward0>)\n"
     ]
    },
    {
     "name": "stderr",
     "output_type": "stream",
     "text": [
      "\r",
      " 15%|██████▌                                     | 3/20 [00:50<04:46, 16.85s/it]"
     ]
    },
    {
     "name": "stdout",
     "output_type": "stream",
     "text": [
      "tensor(21157.7070, device='cuda:0', grad_fn=<AddBackward0>)\n",
      "tensor(22727.0215, device='cuda:0', grad_fn=<AddBackward0>)\n",
      "tensor(21174.9141, device='cuda:0', grad_fn=<AddBackward0>)\n",
      "tensor(21394.5039, device='cuda:0', grad_fn=<AddBackward0>)\n",
      "tensor(21393.9805, device='cuda:0', grad_fn=<AddBackward0>)\n",
      "tensor(22052.9648, device='cuda:0', grad_fn=<AddBackward0>)\n",
      "tensor(19875.2148, device='cuda:0', grad_fn=<AddBackward0>)\n",
      "tensor(22059.1094, device='cuda:0', grad_fn=<AddBackward0>)\n",
      "tensor(21324.9160, device='cuda:0', grad_fn=<AddBackward0>)\n",
      "tensor(21447.2129, device='cuda:0', grad_fn=<AddBackward0>)\n",
      "tensor(21935.3281, device='cuda:0', grad_fn=<AddBackward0>)\n",
      "tensor(21420.9531, device='cuda:0', grad_fn=<AddBackward0>)\n",
      "tensor(21510.5098, device='cuda:0', grad_fn=<AddBackward0>)\n",
      "tensor(21337.0137, device='cuda:0', grad_fn=<AddBackward0>)\n",
      "tensor(20834.4395, device='cuda:0', grad_fn=<AddBackward0>)\n"
     ]
    },
    {
     "name": "stderr",
     "output_type": "stream",
     "text": [
      "\r",
      " 20%|████████▊                                   | 4/20 [01:07<04:29, 16.86s/it]"
     ]
    },
    {
     "name": "stdout",
     "output_type": "stream",
     "text": [
      "tensor(21103.5137, device='cuda:0', grad_fn=<AddBackward0>)\n",
      "tensor(21335.5859, device='cuda:0', grad_fn=<AddBackward0>)\n",
      "tensor(21773.2910, device='cuda:0', grad_fn=<AddBackward0>)\n",
      "tensor(20831.9629, device='cuda:0', grad_fn=<AddBackward0>)\n",
      "tensor(20726.4531, device='cuda:0', grad_fn=<AddBackward0>)\n",
      "tensor(21406.0742, device='cuda:0', grad_fn=<AddBackward0>)\n",
      "tensor(21337.4375, device='cuda:0', grad_fn=<AddBackward0>)\n",
      "tensor(22220.1289, device='cuda:0', grad_fn=<AddBackward0>)\n",
      "tensor(20887.2832, device='cuda:0', grad_fn=<AddBackward0>)\n",
      "tensor(21500.2754, device='cuda:0', grad_fn=<AddBackward0>)\n",
      "tensor(21543.3926, device='cuda:0', grad_fn=<AddBackward0>)\n",
      "tensor(20839.0938, device='cuda:0', grad_fn=<AddBackward0>)\n",
      "tensor(21631.7949, device='cuda:0', grad_fn=<AddBackward0>)\n",
      "tensor(21166.7637, device='cuda:0', grad_fn=<AddBackward0>)\n",
      "tensor(21281.7227, device='cuda:0', grad_fn=<AddBackward0>)\n"
     ]
    },
    {
     "name": "stderr",
     "output_type": "stream",
     "text": [
      "\r",
      " 25%|███████████                                 | 5/20 [01:24<04:13, 16.88s/it]"
     ]
    },
    {
     "name": "stdout",
     "output_type": "stream",
     "text": [
      "tensor(20918.7871, device='cuda:0', grad_fn=<AddBackward0>)\n",
      "tensor(22658.7305, device='cuda:0', grad_fn=<AddBackward0>)\n",
      "tensor(21302.9141, device='cuda:0', grad_fn=<AddBackward0>)\n",
      "tensor(21264.4746, device='cuda:0', grad_fn=<AddBackward0>)\n",
      "tensor(21740.4121, device='cuda:0', grad_fn=<AddBackward0>)\n",
      "tensor(21367.0254, device='cuda:0', grad_fn=<AddBackward0>)\n",
      "tensor(21380.2656, device='cuda:0', grad_fn=<AddBackward0>)\n",
      "tensor(21238.2832, device='cuda:0', grad_fn=<AddBackward0>)\n",
      "tensor(22508.3809, device='cuda:0', grad_fn=<AddBackward0>)\n",
      "tensor(21282.7598, device='cuda:0', grad_fn=<AddBackward0>)\n",
      "tensor(20299.0391, device='cuda:0', grad_fn=<AddBackward0>)\n",
      "tensor(20139.9199, device='cuda:0', grad_fn=<AddBackward0>)\n",
      "tensor(19905.5410, device='cuda:0', grad_fn=<AddBackward0>)\n",
      "tensor(21565.8008, device='cuda:0', grad_fn=<AddBackward0>)\n",
      "tensor(21265.8066, device='cuda:0', grad_fn=<AddBackward0>)\n"
     ]
    },
    {
     "name": "stderr",
     "output_type": "stream",
     "text": [
      "\r",
      " 30%|█████████████▏                              | 6/20 [01:41<03:56, 16.88s/it]"
     ]
    },
    {
     "name": "stdout",
     "output_type": "stream",
     "text": [
      "tensor(21196.0020, device='cuda:0', grad_fn=<AddBackward0>)\n",
      "tensor(21234.9648, device='cuda:0', grad_fn=<AddBackward0>)\n",
      "tensor(20182.0117, device='cuda:0', grad_fn=<AddBackward0>)\n",
      "tensor(22231.5879, device='cuda:0', grad_fn=<AddBackward0>)\n",
      "tensor(21798.0898, device='cuda:0', grad_fn=<AddBackward0>)\n",
      "tensor(21023.3652, device='cuda:0', grad_fn=<AddBackward0>)\n",
      "tensor(21236.3418, device='cuda:0', grad_fn=<AddBackward0>)\n",
      "tensor(21532.6836, device='cuda:0', grad_fn=<AddBackward0>)\n",
      "tensor(20649.0020, device='cuda:0', grad_fn=<AddBackward0>)\n",
      "tensor(21905.1484, device='cuda:0', grad_fn=<AddBackward0>)\n",
      "tensor(21231.7012, device='cuda:0', grad_fn=<AddBackward0>)\n",
      "tensor(21459.9844, device='cuda:0', grad_fn=<AddBackward0>)\n",
      "tensor(21289.2266, device='cuda:0', grad_fn=<AddBackward0>)\n",
      "tensor(21199.6953, device='cuda:0', grad_fn=<AddBackward0>)\n",
      "tensor(21053.6406, device='cuda:0', grad_fn=<AddBackward0>)\n"
     ]
    },
    {
     "name": "stderr",
     "output_type": "stream",
     "text": [
      "\r",
      " 35%|███████████████▍                            | 7/20 [01:58<03:40, 16.94s/it]"
     ]
    },
    {
     "name": "stdout",
     "output_type": "stream",
     "text": [
      "tensor(21122.8984, device='cuda:0', grad_fn=<AddBackward0>)\n",
      "tensor(21592.5801, device='cuda:0', grad_fn=<AddBackward0>)\n",
      "tensor(20871.1758, device='cuda:0', grad_fn=<AddBackward0>)\n",
      "tensor(22520.5879, device='cuda:0', grad_fn=<AddBackward0>)\n",
      "tensor(22549.5098, device='cuda:0', grad_fn=<AddBackward0>)\n",
      "tensor(21404.4453, device='cuda:0', grad_fn=<AddBackward0>)\n",
      "tensor(21377.5195, device='cuda:0', grad_fn=<AddBackward0>)\n",
      "tensor(21517.7930, device='cuda:0', grad_fn=<AddBackward0>)\n",
      "tensor(21715.2695, device='cuda:0', grad_fn=<AddBackward0>)\n",
      "tensor(21986.9922, device='cuda:0', grad_fn=<AddBackward0>)\n",
      "tensor(22145.3691, device='cuda:0', grad_fn=<AddBackward0>)\n",
      "tensor(21177.4023, device='cuda:0', grad_fn=<AddBackward0>)\n",
      "tensor(20757.8672, device='cuda:0', grad_fn=<AddBackward0>)\n",
      "tensor(21098.7285, device='cuda:0', grad_fn=<AddBackward0>)\n",
      "tensor(21141.9336, device='cuda:0', grad_fn=<AddBackward0>)\n"
     ]
    },
    {
     "name": "stderr",
     "output_type": "stream",
     "text": [
      "\r",
      " 40%|█████████████████▌                          | 8/20 [02:15<03:23, 16.94s/it]"
     ]
    },
    {
     "name": "stdout",
     "output_type": "stream",
     "text": [
      "tensor(21000.7715, device='cuda:0', grad_fn=<AddBackward0>)\n",
      "tensor(21575.2188, device='cuda:0', grad_fn=<AddBackward0>)\n",
      "tensor(20975.9004, device='cuda:0', grad_fn=<AddBackward0>)\n",
      "tensor(21363.4590, device='cuda:0', grad_fn=<AddBackward0>)\n",
      "tensor(22326.5586, device='cuda:0', grad_fn=<AddBackward0>)\n",
      "tensor(22292.9492, device='cuda:0', grad_fn=<AddBackward0>)\n",
      "tensor(21952.9883, device='cuda:0', grad_fn=<AddBackward0>)\n",
      "tensor(21193.9863, device='cuda:0', grad_fn=<AddBackward0>)\n",
      "tensor(21362.3730, device='cuda:0', grad_fn=<AddBackward0>)\n",
      "tensor(20607.2051, device='cuda:0', grad_fn=<AddBackward0>)\n",
      "tensor(22281.3418, device='cuda:0', grad_fn=<AddBackward0>)\n",
      "tensor(20517.4023, device='cuda:0', grad_fn=<AddBackward0>)\n",
      "tensor(19997.6465, device='cuda:0', grad_fn=<AddBackward0>)\n",
      "tensor(20228.1641, device='cuda:0', grad_fn=<AddBackward0>)\n",
      "tensor(21704.8242, device='cuda:0', grad_fn=<AddBackward0>)\n"
     ]
    },
    {
     "name": "stderr",
     "output_type": "stream",
     "text": [
      "\r",
      " 45%|███████████████████▊                        | 9/20 [02:32<03:06, 16.97s/it]"
     ]
    },
    {
     "name": "stdout",
     "output_type": "stream",
     "text": [
      "tensor(21284.5527, device='cuda:0', grad_fn=<AddBackward0>)\n",
      "tensor(20661.3594, device='cuda:0', grad_fn=<AddBackward0>)\n",
      "tensor(21835.0371, device='cuda:0', grad_fn=<AddBackward0>)\n",
      "tensor(21117.9062, device='cuda:0', grad_fn=<AddBackward0>)\n",
      "tensor(22029.0918, device='cuda:0', grad_fn=<AddBackward0>)\n",
      "tensor(20696.3008, device='cuda:0', grad_fn=<AddBackward0>)\n",
      "tensor(21952.3320, device='cuda:0', grad_fn=<AddBackward0>)\n",
      "tensor(20589.9551, device='cuda:0', grad_fn=<AddBackward0>)\n",
      "tensor(20908.2812, device='cuda:0', grad_fn=<AddBackward0>)\n",
      "tensor(20253.8184, device='cuda:0', grad_fn=<AddBackward0>)\n",
      "tensor(20558.4473, device='cuda:0', grad_fn=<AddBackward0>)\n",
      "tensor(21207.1055, device='cuda:0', grad_fn=<AddBackward0>)\n",
      "tensor(21811.3711, device='cuda:0', grad_fn=<AddBackward0>)\n",
      "tensor(20556.3848, device='cuda:0', grad_fn=<AddBackward0>)\n",
      "tensor(21484.6816, device='cuda:0', grad_fn=<AddBackward0>)\n"
     ]
    },
    {
     "name": "stderr",
     "output_type": "stream",
     "text": [
      "\r",
      " 50%|█████████████████████▌                     | 10/20 [02:49<02:50, 17.03s/it]"
     ]
    },
    {
     "name": "stdout",
     "output_type": "stream",
     "text": [
      "tensor(20931.1445, device='cuda:0', grad_fn=<AddBackward0>)\n",
      "tensor(21075.8242, device='cuda:0', grad_fn=<AddBackward0>)\n",
      "tensor(20595.7070, device='cuda:0', grad_fn=<AddBackward0>)\n",
      "tensor(21591.9395, device='cuda:0', grad_fn=<AddBackward0>)\n",
      "tensor(22356.7207, device='cuda:0', grad_fn=<AddBackward0>)\n",
      "tensor(21810.9414, device='cuda:0', grad_fn=<AddBackward0>)\n",
      "tensor(21094.6973, device='cuda:0', grad_fn=<AddBackward0>)\n",
      "tensor(20344.4785, device='cuda:0', grad_fn=<AddBackward0>)\n",
      "tensor(20841.1074, device='cuda:0', grad_fn=<AddBackward0>)\n",
      "tensor(21651.1992, device='cuda:0', grad_fn=<AddBackward0>)\n",
      "tensor(21387.0449, device='cuda:0', grad_fn=<AddBackward0>)\n",
      "tensor(21025.7012, device='cuda:0', grad_fn=<AddBackward0>)\n",
      "tensor(20787.8379, device='cuda:0', grad_fn=<AddBackward0>)\n",
      "tensor(21194.4551, device='cuda:0', grad_fn=<AddBackward0>)\n",
      "tensor(21659.6055, device='cuda:0', grad_fn=<AddBackward0>)\n"
     ]
    },
    {
     "name": "stderr",
     "output_type": "stream",
     "text": [
      "\r",
      " 55%|███████████████████████▋                   | 11/20 [03:06<02:34, 17.12s/it]"
     ]
    },
    {
     "name": "stdout",
     "output_type": "stream",
     "text": [
      "tensor(20992.3320, device='cuda:0', grad_fn=<AddBackward0>)\n",
      "tensor(21123.9727, device='cuda:0', grad_fn=<AddBackward0>)\n",
      "tensor(20655.3691, device='cuda:0', grad_fn=<AddBackward0>)\n",
      "tensor(21178.9785, device='cuda:0', grad_fn=<AddBackward0>)\n",
      "tensor(20839.1582, device='cuda:0', grad_fn=<AddBackward0>)\n",
      "tensor(21191.0137, device='cuda:0', grad_fn=<AddBackward0>)\n",
      "tensor(21109.7812, device='cuda:0', grad_fn=<AddBackward0>)\n",
      "tensor(20165.7676, device='cuda:0', grad_fn=<AddBackward0>)\n",
      "tensor(20931.7441, device='cuda:0', grad_fn=<AddBackward0>)\n",
      "tensor(21095.4863, device='cuda:0', grad_fn=<AddBackward0>)\n",
      "tensor(21418.6016, device='cuda:0', grad_fn=<AddBackward0>)\n",
      "tensor(20956.2852, device='cuda:0', grad_fn=<AddBackward0>)\n",
      "tensor(20539.9590, device='cuda:0', grad_fn=<AddBackward0>)\n",
      "tensor(22384.9180, device='cuda:0', grad_fn=<AddBackward0>)\n",
      "tensor(20984.9727, device='cuda:0', grad_fn=<AddBackward0>)\n"
     ]
    },
    {
     "name": "stderr",
     "output_type": "stream",
     "text": [
      "\r",
      " 60%|█████████████████████████▊                 | 12/20 [03:23<02:17, 17.15s/it]"
     ]
    },
    {
     "name": "stdout",
     "output_type": "stream",
     "text": [
      "tensor(21254.7305, device='cuda:0', grad_fn=<AddBackward0>)\n",
      "tensor(21491.1328, device='cuda:0', grad_fn=<AddBackward0>)\n",
      "tensor(20540.2109, device='cuda:0', grad_fn=<AddBackward0>)\n",
      "tensor(21033.2559, device='cuda:0', grad_fn=<AddBackward0>)\n",
      "tensor(21638.3340, device='cuda:0', grad_fn=<AddBackward0>)\n",
      "tensor(21909.9941, device='cuda:0', grad_fn=<AddBackward0>)\n",
      "tensor(21202.8848, device='cuda:0', grad_fn=<AddBackward0>)\n",
      "tensor(20950.1895, device='cuda:0', grad_fn=<AddBackward0>)\n",
      "tensor(21419.1035, device='cuda:0', grad_fn=<AddBackward0>)\n",
      "tensor(21621.4551, device='cuda:0', grad_fn=<AddBackward0>)\n",
      "tensor(20951.3984, device='cuda:0', grad_fn=<AddBackward0>)\n",
      "tensor(21313.1855, device='cuda:0', grad_fn=<AddBackward0>)\n",
      "tensor(20743.2422, device='cuda:0', grad_fn=<AddBackward0>)\n",
      "tensor(20064.1387, device='cuda:0', grad_fn=<AddBackward0>)\n",
      "tensor(20430.9980, device='cuda:0', grad_fn=<AddBackward0>)\n"
     ]
    },
    {
     "name": "stderr",
     "output_type": "stream",
     "text": [
      "\r",
      " 65%|███████████████████████████▉               | 13/20 [03:41<02:00, 17.15s/it]"
     ]
    },
    {
     "name": "stdout",
     "output_type": "stream",
     "text": [
      "tensor(20966.6191, device='cuda:0', grad_fn=<AddBackward0>)\n",
      "tensor(21590.3359, device='cuda:0', grad_fn=<AddBackward0>)\n",
      "tensor(20823.4375, device='cuda:0', grad_fn=<AddBackward0>)\n",
      "tensor(21378.2148, device='cuda:0', grad_fn=<AddBackward0>)\n",
      "tensor(20585.0137, device='cuda:0', grad_fn=<AddBackward0>)\n",
      "tensor(21325.5938, device='cuda:0', grad_fn=<AddBackward0>)\n",
      "tensor(20755.5703, device='cuda:0', grad_fn=<AddBackward0>)\n",
      "tensor(21612.4531, device='cuda:0', grad_fn=<AddBackward0>)\n",
      "tensor(21034.7090, device='cuda:0', grad_fn=<AddBackward0>)\n",
      "tensor(21225.6582, device='cuda:0', grad_fn=<AddBackward0>)\n",
      "tensor(20945.6289, device='cuda:0', grad_fn=<AddBackward0>)\n",
      "tensor(21345.3184, device='cuda:0', grad_fn=<AddBackward0>)\n",
      "tensor(22220.0352, device='cuda:0', grad_fn=<AddBackward0>)\n",
      "tensor(21353.3398, device='cuda:0', grad_fn=<AddBackward0>)\n",
      "tensor(20616.7305, device='cuda:0', grad_fn=<AddBackward0>)\n"
     ]
    },
    {
     "name": "stderr",
     "output_type": "stream",
     "text": [
      "\r",
      " 70%|██████████████████████████████             | 14/20 [03:58<01:42, 17.11s/it]"
     ]
    },
    {
     "name": "stdout",
     "output_type": "stream",
     "text": [
      "tensor(21103.4160, device='cuda:0', grad_fn=<AddBackward0>)\n",
      "tensor(20897.0781, device='cuda:0', grad_fn=<AddBackward0>)\n",
      "tensor(21204.4746, device='cuda:0', grad_fn=<AddBackward0>)\n",
      "tensor(21702.2812, device='cuda:0', grad_fn=<AddBackward0>)\n",
      "tensor(21623.1543, device='cuda:0', grad_fn=<AddBackward0>)\n",
      "tensor(21401.0820, device='cuda:0', grad_fn=<AddBackward0>)\n",
      "tensor(20443.8652, device='cuda:0', grad_fn=<AddBackward0>)\n",
      "tensor(21282.0215, device='cuda:0', grad_fn=<AddBackward0>)\n",
      "tensor(20047.7578, device='cuda:0', grad_fn=<AddBackward0>)\n",
      "tensor(21639.0918, device='cuda:0', grad_fn=<AddBackward0>)\n",
      "tensor(21431.0742, device='cuda:0', grad_fn=<AddBackward0>)\n",
      "tensor(20361.4883, device='cuda:0', grad_fn=<AddBackward0>)\n",
      "tensor(21542.6406, device='cuda:0', grad_fn=<AddBackward0>)\n",
      "tensor(21039.1992, device='cuda:0', grad_fn=<AddBackward0>)\n",
      "tensor(20783.4922, device='cuda:0', grad_fn=<AddBackward0>)\n"
     ]
    },
    {
     "name": "stderr",
     "output_type": "stream",
     "text": [
      "\r",
      " 75%|████████████████████████████████▎          | 15/20 [04:14<01:25, 17.03s/it]"
     ]
    },
    {
     "name": "stdout",
     "output_type": "stream",
     "text": [
      "tensor(20750.3555, device='cuda:0', grad_fn=<AddBackward0>)\n",
      "tensor(21047.7109, device='cuda:0', grad_fn=<AddBackward0>)\n",
      "tensor(21223.6738, device='cuda:0', grad_fn=<AddBackward0>)\n",
      "tensor(20881.3008, device='cuda:0', grad_fn=<AddBackward0>)\n",
      "tensor(21667.4824, device='cuda:0', grad_fn=<AddBackward0>)\n",
      "tensor(23717.8457, device='cuda:0', grad_fn=<AddBackward0>)\n",
      "tensor(19949.4570, device='cuda:0', grad_fn=<AddBackward0>)\n",
      "tensor(20769.1562, device='cuda:0', grad_fn=<AddBackward0>)\n",
      "tensor(21992.5234, device='cuda:0', grad_fn=<AddBackward0>)\n",
      "tensor(21570.9727, device='cuda:0', grad_fn=<AddBackward0>)\n",
      "tensor(20899.2773, device='cuda:0', grad_fn=<AddBackward0>)\n",
      "tensor(21021.3301, device='cuda:0', grad_fn=<AddBackward0>)\n",
      "tensor(21387.7715, device='cuda:0', grad_fn=<AddBackward0>)\n",
      "tensor(20624.2266, device='cuda:0', grad_fn=<AddBackward0>)\n",
      "tensor(20835.6875, device='cuda:0', grad_fn=<AddBackward0>)\n"
     ]
    },
    {
     "name": "stderr",
     "output_type": "stream",
     "text": [
      "\r",
      " 80%|██████████████████████████████████▍        | 16/20 [04:32<01:08, 17.08s/it]"
     ]
    },
    {
     "name": "stdout",
     "output_type": "stream",
     "text": [
      "tensor(20561.9102, device='cuda:0', grad_fn=<AddBackward0>)\n",
      "tensor(20282.8379, device='cuda:0', grad_fn=<AddBackward0>)\n",
      "tensor(21180.4961, device='cuda:0', grad_fn=<AddBackward0>)\n",
      "tensor(21040.8184, device='cuda:0', grad_fn=<AddBackward0>)\n",
      "tensor(21483.2422, device='cuda:0', grad_fn=<AddBackward0>)\n",
      "tensor(20284.4785, device='cuda:0', grad_fn=<AddBackward0>)\n",
      "tensor(21133.6309, device='cuda:0', grad_fn=<AddBackward0>)\n",
      "tensor(21323.4551, device='cuda:0', grad_fn=<AddBackward0>)\n",
      "tensor(21420.5000, device='cuda:0', grad_fn=<AddBackward0>)\n",
      "tensor(21075.1230, device='cuda:0', grad_fn=<AddBackward0>)\n",
      "tensor(20402.1406, device='cuda:0', grad_fn=<AddBackward0>)\n",
      "tensor(21746.0215, device='cuda:0', grad_fn=<AddBackward0>)\n",
      "tensor(20438.2637, device='cuda:0', grad_fn=<AddBackward0>)\n",
      "tensor(20060.9785, device='cuda:0', grad_fn=<AddBackward0>)\n",
      "tensor(20169.2832, device='cuda:0', grad_fn=<AddBackward0>)\n"
     ]
    },
    {
     "name": "stderr",
     "output_type": "stream",
     "text": [
      "\r",
      " 85%|████████████████████████████████████▌      | 17/20 [04:49<00:51, 17.05s/it]"
     ]
    },
    {
     "name": "stdout",
     "output_type": "stream",
     "text": [
      "tensor(21797.4043, device='cuda:0', grad_fn=<AddBackward0>)\n",
      "tensor(21462.0078, device='cuda:0', grad_fn=<AddBackward0>)\n",
      "tensor(21813.1484, device='cuda:0', grad_fn=<AddBackward0>)\n",
      "tensor(21000.3164, device='cuda:0', grad_fn=<AddBackward0>)\n",
      "tensor(20323.2539, device='cuda:0', grad_fn=<AddBackward0>)\n",
      "tensor(21052.8984, device='cuda:0', grad_fn=<AddBackward0>)\n",
      "tensor(21275.2422, device='cuda:0', grad_fn=<AddBackward0>)\n",
      "tensor(21192.2734, device='cuda:0', grad_fn=<AddBackward0>)\n",
      "tensor(21200.5723, device='cuda:0', grad_fn=<AddBackward0>)\n",
      "tensor(21018.9863, device='cuda:0', grad_fn=<AddBackward0>)\n",
      "tensor(21679.3125, device='cuda:0', grad_fn=<AddBackward0>)\n",
      "tensor(21240.7383, device='cuda:0', grad_fn=<AddBackward0>)\n",
      "tensor(20243.6426, device='cuda:0', grad_fn=<AddBackward0>)\n",
      "tensor(21647.8086, device='cuda:0', grad_fn=<AddBackward0>)\n",
      "tensor(21320.3594, device='cuda:0', grad_fn=<AddBackward0>)\n"
     ]
    },
    {
     "name": "stderr",
     "output_type": "stream",
     "text": [
      "\r",
      " 90%|██████████████████████████████████████▋    | 18/20 [05:06<00:34, 17.09s/it]"
     ]
    },
    {
     "name": "stdout",
     "output_type": "stream",
     "text": [
      "tensor(20408.6836, device='cuda:0', grad_fn=<AddBackward0>)\n",
      "tensor(22111.8750, device='cuda:0', grad_fn=<AddBackward0>)\n",
      "tensor(20995.6523, device='cuda:0', grad_fn=<AddBackward0>)\n",
      "tensor(21709.1250, device='cuda:0', grad_fn=<AddBackward0>)\n",
      "tensor(20714.3281, device='cuda:0', grad_fn=<AddBackward0>)\n",
      "tensor(20860.6914, device='cuda:0', grad_fn=<AddBackward0>)\n",
      "tensor(21295.3105, device='cuda:0', grad_fn=<AddBackward0>)\n",
      "tensor(21339.0039, device='cuda:0', grad_fn=<AddBackward0>)\n",
      "tensor(20850.4941, device='cuda:0', grad_fn=<AddBackward0>)\n",
      "tensor(20414.3770, device='cuda:0', grad_fn=<AddBackward0>)\n",
      "tensor(21192.6621, device='cuda:0', grad_fn=<AddBackward0>)\n",
      "tensor(22407.6133, device='cuda:0', grad_fn=<AddBackward0>)\n",
      "tensor(21123.0332, device='cuda:0', grad_fn=<AddBackward0>)\n",
      "tensor(20852.9082, device='cuda:0', grad_fn=<AddBackward0>)\n",
      "tensor(21873.9062, device='cuda:0', grad_fn=<AddBackward0>)\n"
     ]
    },
    {
     "name": "stderr",
     "output_type": "stream",
     "text": [
      "\r",
      " 95%|████████████████████████████████████████▊  | 19/20 [05:23<00:17, 17.01s/it]"
     ]
    },
    {
     "name": "stdout",
     "output_type": "stream",
     "text": [
      "tensor(20584.6582, device='cuda:0', grad_fn=<AddBackward0>)\n",
      "tensor(21277.3301, device='cuda:0', grad_fn=<AddBackward0>)\n",
      "tensor(20750.3711, device='cuda:0', grad_fn=<AddBackward0>)\n",
      "tensor(20366.0449, device='cuda:0', grad_fn=<AddBackward0>)\n",
      "tensor(19736.5410, device='cuda:0', grad_fn=<AddBackward0>)\n",
      "tensor(21710.2266, device='cuda:0', grad_fn=<AddBackward0>)\n",
      "tensor(20330.7715, device='cuda:0', grad_fn=<AddBackward0>)\n",
      "tensor(21635.8164, device='cuda:0', grad_fn=<AddBackward0>)\n",
      "tensor(21919.7891, device='cuda:0', grad_fn=<AddBackward0>)\n",
      "tensor(20429.6816, device='cuda:0', grad_fn=<AddBackward0>)\n",
      "tensor(20928.4395, device='cuda:0', grad_fn=<AddBackward0>)\n",
      "tensor(21645.4668, device='cuda:0', grad_fn=<AddBackward0>)\n",
      "tensor(21156.7246, device='cuda:0', grad_fn=<AddBackward0>)\n",
      "tensor(21668.0547, device='cuda:0', grad_fn=<AddBackward0>)\n",
      "tensor(20927.2285, device='cuda:0', grad_fn=<AddBackward0>)\n"
     ]
    },
    {
     "name": "stderr",
     "output_type": "stream",
     "text": [
      "100%|███████████████████████████████████████████| 20/20 [05:37<00:00, 16.88s/it]"
     ]
    },
    {
     "name": "stdout",
     "output_type": "stream",
     "text": [
      "tensor(20646.6816, device='cuda:0', grad_fn=<AddBackward0>)\n",
      "tensor(21408.9414, device='cuda:0', grad_fn=<AddBackward0>)\n"
     ]
    },
    {
     "name": "stderr",
     "output_type": "stream",
     "text": [
      "\n"
     ]
    }
   ],
   "source": [
    "lr = .0005\n",
    "for epoch in tqdm(range(20)):\n",
    "    optimizer = t.optim.Adam(model.parameters(), lr=lr / (epoch * 2 + 1), betas=(.9, .99), weight_decay=1e-2)\n",
    "    for i, (data, _) in enumerate(train_dl):\n",
    "        data = data.to(device)\n",
    "        optimizer.zero_grad()\n",
    "        pred, mu, log_var = model(data)\n",
    "        loss = vae_loss(pred, mu, log_var, data)\n",
    "        loss.backward()\n",
    "        optimizer.step()\n",
    "        if i % 33 == 0:\n",
    "            print(loss)\n",
    "\n",
    "print(loss)"
   ]
  },
  {
   "cell_type": "code",
   "execution_count": 13,
   "metadata": {},
   "outputs": [
    {
     "data": {
      "text/plain": [
       "torch.Size([128, 2])"
      ]
     },
     "execution_count": 13,
     "metadata": {},
     "output_type": "execute_result"
    }
   ],
   "source": [
    "mu.shape"
   ]
  },
  {
   "cell_type": "code",
   "execution_count": 14,
   "metadata": {},
   "outputs": [
    {
     "data": {
      "text/plain": [
       "torch.Size([128, 2])"
      ]
     },
     "execution_count": 14,
     "metadata": {},
     "output_type": "execute_result"
    }
   ],
   "source": [
    "log_var.shape"
   ]
  },
  {
   "cell_type": "code",
   "execution_count": 15,
   "metadata": {},
   "outputs": [
    {
     "data": {
      "text/plain": [
       "tensor([[ 0.2095, -2.3853],\n",
       "        [ 1.2137, -2.5154],\n",
       "        [ 0.4480, -0.9542],\n",
       "        [ 0.1077, -4.3537],\n",
       "        [-0.9446, -2.6549],\n",
       "        [ 1.4333, -0.6426],\n",
       "        [ 3.2849, -1.8471],\n",
       "        [-0.0786, -1.9685],\n",
       "        [-0.1759, -0.9804],\n",
       "        [-0.1184, -1.4328]], device='cuda:0', grad_fn=<SliceBackward0>)"
      ]
     },
     "execution_count": 15,
     "metadata": {},
     "output_type": "execute_result"
    }
   ],
   "source": [
    "mu[0:10]"
   ]
  },
  {
   "cell_type": "code",
   "execution_count": 16,
   "metadata": {},
   "outputs": [
    {
     "data": {
      "text/plain": [
       "tensor([[-4.1537, -3.4211],\n",
       "        [-3.1524, -3.2208],\n",
       "        [-3.1086, -2.8434],\n",
       "        [-4.3717, -2.1544],\n",
       "        [-3.8358, -5.3702],\n",
       "        [-2.8891,  0.5710],\n",
       "        [-3.0989, -3.4410],\n",
       "        [-3.6518, -3.1645],\n",
       "        [-4.0692, -1.9565],\n",
       "        [-2.7796, -4.3813]], device='cuda:0', grad_fn=<SliceBackward0>)"
      ]
     },
     "execution_count": 16,
     "metadata": {},
     "output_type": "execute_result"
    }
   ],
   "source": [
    "log_var[0:10]"
   ]
  },
  {
   "cell_type": "code",
   "execution_count": null,
   "metadata": {},
   "outputs": [],
   "source": [
    "std = t.exp(log_var[0:10]/2)\n",
    "std"
   ]
  },
  {
   "cell_type": "code",
   "execution_count": null,
   "metadata": {},
   "outputs": [],
   "source": [
    "loss"
   ]
  },
  {
   "cell_type": "code",
   "execution_count": null,
   "metadata": {},
   "outputs": [],
   "source": [
    "print('20_epoch_loss=21229')"
   ]
  },
  {
   "cell_type": "code",
   "execution_count": null,
   "metadata": {},
   "outputs": [],
   "source": [
    "t.save(model.state_dict(), 'models/state_dicts/03_03.pth')"
   ]
  },
  {
   "cell_type": "code",
   "execution_count": null,
   "metadata": {},
   "outputs": [],
   "source": []
  },
  {
   "cell_type": "code",
   "execution_count": null,
   "metadata": {},
   "outputs": [],
   "source": []
  },
  {
   "cell_type": "code",
   "execution_count": null,
   "metadata": {},
   "outputs": [],
   "source": []
  },
  {
   "cell_type": "code",
   "execution_count": null,
   "metadata": {},
   "outputs": [],
   "source": [
    "m = t.Tensor([0, 0])"
   ]
  },
  {
   "cell_type": "code",
   "execution_count": null,
   "metadata": {},
   "outputs": [],
   "source": [
    "log_va = t.Tensor([1, 1])"
   ]
  },
  {
   "cell_type": "code",
   "execution_count": null,
   "metadata": {},
   "outputs": [],
   "source": [
    "-.5 * t.sum(1 + log_va - m ** 2 - log_va.exp())"
   ]
  },
  {
   "cell_type": "code",
   "execution_count": null,
   "metadata": {},
   "outputs": [],
   "source": [
    "log_va - m ** 2 - log_va.exp()"
   ]
  },
  {
   "cell_type": "code",
   "execution_count": 23,
   "metadata": {},
   "outputs": [
    {
     "data": {
      "text/plain": [
       "tensor(-3.4366)"
      ]
     },
     "execution_count": 23,
     "metadata": {},
     "output_type": "execute_result"
    }
   ],
   "source": [
    "t.sum(log_va - m ** 2 - log_va.exp())"
   ]
  }
 ],
 "metadata": {
  "kernelspec": {
   "display_name": "pytorch_1_10",
   "language": "python",
   "name": "jupyter_kernel_py110"
  },
  "language_info": {
   "codemirror_mode": {
    "name": "ipython",
    "version": 3
   },
   "file_extension": ".py",
   "mimetype": "text/x-python",
   "name": "python",
   "nbconvert_exporter": "python",
   "pygments_lexer": "ipython3",
   "version": "3.8.12"
  },
  "pycharm": {
   "stem_cell": {
    "cell_type": "raw",
    "metadata": {
     "collapsed": false
    },
    "source": []
   }
  }
 },
 "nbformat": 4,
 "nbformat_minor": 2
}
