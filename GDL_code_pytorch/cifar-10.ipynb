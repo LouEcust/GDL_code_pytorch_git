{
 "cells": [
  {
   "cell_type": "markdown",
   "id": "atomic-communication",
   "metadata": {},
   "source": [
    "# CIFAR-10数据集分类实验 "
   ]
  },
  {
   "cell_type": "markdown",
   "id": "compressed-walker",
   "metadata": {},
   "source": [
    "## (1)使用torchvision加载并预处理CIFAR-10数据集"
   ]
  },
  {
   "cell_type": "code",
   "execution_count": 87,
   "id": "administrative-building",
   "metadata": {},
   "outputs": [],
   "source": [
    "import torch\n",
    "import torchvision as tv\n",
    "import torchvision.transforms as transforms \n",
    "from torchvision.transforms import ToPILImage\n",
    "\n",
    "pil_image = ToPILImage()"
   ]
  },
  {
   "cell_type": "markdown",
   "id": "worthy-consolidation",
   "metadata": {},
   "source": [
    "### 定义对数据的预处理 "
   ]
  },
  {
   "cell_type": "code",
   "execution_count": 88,
   "id": "simple-collect",
   "metadata": {},
   "outputs": [],
   "source": [
    "transform = transforms.Compose([transforms.ToTensor(),\n",
    "                               transforms.Normalize([0.5, 0.5, 0.5], [0.5, 0.5, 0.5])])"
   ]
  },
  {
   "cell_type": "markdown",
   "id": "improved-actor",
   "metadata": {},
   "source": [
    "### 训练集 "
   ]
  },
  {
   "cell_type": "code",
   "execution_count": 89,
   "id": "substantial-portsmouth",
   "metadata": {},
   "outputs": [
    {
     "name": "stdout",
     "output_type": "stream",
     "text": [
      "Files already downloaded and verified\n"
     ]
    }
   ],
   "source": [
    "trainset = tv.datasets.CIFAR10(root = 'E:\\Data\\dataSet\\cifar-10-python',\n",
    "                              train = True,\n",
    "                              download = True,\n",
    "                              transform = transform)\n",
    "\n",
    "train_loader = torch.utils.data.DataLoader(trainset,\n",
    "                                          batch_size = 4,\n",
    "                                          shuffle = True,\n",
    "                                          num_workers = 0)"
   ]
  },
  {
   "cell_type": "markdown",
   "id": "available-raleigh",
   "metadata": {},
   "source": [
    "### 测试集 "
   ]
  },
  {
   "cell_type": "code",
   "execution_count": 90,
   "id": "fiscal-monaco",
   "metadata": {},
   "outputs": [
    {
     "name": "stdout",
     "output_type": "stream",
     "text": [
      "Files already downloaded and verified\n"
     ]
    }
   ],
   "source": [
    "testset = tv.datasets.CIFAR10(root='E:\\Data\\dataSet\\cifar-10-python',\n",
    "                             train = False, \n",
    "                             download = True, \n",
    "                             transform = transform)\n",
    "\n",
    "testloader = torch.utils.data.DataLoader(testset,\n",
    "                                        batch_size = 4,\n",
    "                                        shuffle = False,\n",
    "                                        num_workers = 0)"
   ]
  },
  {
   "cell_type": "code",
   "execution_count": 91,
   "id": "adverse-herald",
   "metadata": {},
   "outputs": [],
   "source": [
    "classes = ('plane', 'car', 'bird', 'cat', 'deer', 'dog', 'frog', 'horse', 'ship', 'truck')"
   ]
  },
  {
   "cell_type": "markdown",
   "id": "joint-donna",
   "metadata": {},
   "source": [
    "####  一些说明测试"
   ]
  },
  {
   "cell_type": "code",
   "execution_count": 92,
   "id": "streaming-threshold",
   "metadata": {},
   "outputs": [
    {
     "data": {
      "text/plain": [
       "Dataset CIFAR10\n",
       "    Number of datapoints: 50000\n",
       "    Root location: E:\\Data\\dataSet\\cifar-10-python\n",
       "    Split: Train\n",
       "    StandardTransform\n",
       "Transform: Compose(\n",
       "               ToTensor()\n",
       "               Normalize(mean=[0.5, 0.5, 0.5], std=[0.5, 0.5, 0.5])\n",
       "           )"
      ]
     },
     "execution_count": 92,
     "metadata": {},
     "output_type": "execute_result"
    }
   ],
   "source": [
    "trainset"
   ]
  },
  {
   "cell_type": "code",
   "execution_count": 93,
   "id": "sustained-technical",
   "metadata": {},
   "outputs": [
    {
     "data": {
      "text/plain": [
       "Dataset CIFAR10\n",
       "    Number of datapoints: 10000\n",
       "    Root location: E:\\Data\\dataSet\\cifar-10-python\n",
       "    Split: Test\n",
       "    StandardTransform\n",
       "Transform: Compose(\n",
       "               ToTensor()\n",
       "               Normalize(mean=[0.5, 0.5, 0.5], std=[0.5, 0.5, 0.5])\n",
       "           )"
      ]
     },
     "execution_count": 93,
     "metadata": {},
     "output_type": "execute_result"
    }
   ],
   "source": [
    "testset"
   ]
  },
  {
   "cell_type": "code",
   "execution_count": 31,
   "id": "statistical-sphere",
   "metadata": {},
   "outputs": [
    {
     "name": "stdout",
     "output_type": "stream",
     "text": [
      "frog\n"
     ]
    },
    {
     "data": {
      "image/png": "[encoded data removed]",
      "text/plain": [
       "<PIL.Image.Image image mode=RGB size=100x100 at 0x1DB9D864710>"
      ]
     },
     "execution_count": 31,
     "metadata": {},
     "output_type": "execute_result"
    }
   ],
   "source": [
    "(data, label) = trainset[0]\n",
    "print(classes[label])\n",
    "pil_image((data+1)/2).resize((100, 100))"
   ]
  },
  {
   "cell_type": "code",
   "execution_count": 32,
   "id": "surface-bicycle",
   "metadata": {},
   "outputs": [
    {
     "name": "stdout",
     "output_type": "stream",
     "text": [
      "实际的标签为     ship     car     cat   plane\n"
     ]
    }
   ],
   "source": [
    "dataiter = iter(train_loader)\n",
    "images, labels = next(dataiter)\n",
    "print('实际的标签为', ''.join('%08s' % classes[labels[j]] for j in range(4)))\n",
    "pil_image(tv.utils.make_grid((images+1)/2, nrow=2, padding=1)).resize((500,500)).show()"
   ]
  },
  {
   "cell_type": "code",
   "execution_count": 33,
   "id": "joined-affect",
   "metadata": {},
   "outputs": [
    {
     "data": {
      "text/plain": [
       "torch.Size([3, 36, 138])"
      ]
     },
     "execution_count": 33,
     "metadata": {},
     "output_type": "execute_result"
    }
   ],
   "source": [
    "tv.utils.make_grid((images+1)/2).size()"
   ]
  },
  {
   "cell_type": "code",
   "execution_count": 34,
   "id": "played-denmark",
   "metadata": {},
   "outputs": [
    {
     "data": {
      "text/plain": [
       "'a-b-c'"
      ]
     },
     "execution_count": 34,
     "metadata": {},
     "output_type": "execute_result"
    }
   ],
   "source": [
    "'-'.join(['a', 'b', 'c'])"
   ]
  },
  {
   "cell_type": "markdown",
   "id": "stone-eight",
   "metadata": {},
   "source": [
    "### 定义网络"
   ]
  },
  {
   "cell_type": "code",
   "execution_count": 35,
   "id": "similar-innocent",
   "metadata": {},
   "outputs": [],
   "source": [
    "import torch.nn as nn\n",
    "import torch.nn.functional as F"
   ]
  },
  {
   "cell_type": "code",
   "execution_count": 36,
   "id": "cross-meeting",
   "metadata": {},
   "outputs": [],
   "source": [
    "class Net(nn.Module):\n",
    "    def __init__(self):\n",
    "        super(Net, self).__init__()\n",
    "        self.conv1 = nn.Conv2d(3, 6, 5)\n",
    "        self.conv2 = nn.Conv2d(6, 16, 5)\n",
    "        self.fc1 = nn.Linear(16*5*5, 120)\n",
    "        self.fc2 = nn.Linear(120, 84)\n",
    "        self.fc3 = nn.Linear(84, 10)\n",
    "    def forward(self, x):\n",
    "        x = F.max_pool2d(F.relu(self.conv1(x)), (2,2))\n",
    "        x = F.max_pool2d(F.relu(self.conv2(x)), 2)\n",
    "        x = x.view(x.size()[0], -1)\n",
    "        x = F.relu(self.fc1(x))\n",
    "        x = F.relu(self.fc2(x))\n",
    "        x = self.fc3(x)\n",
    "        return x"
   ]
  },
  {
   "cell_type": "code",
   "execution_count": 37,
   "id": "julian-durham",
   "metadata": {},
   "outputs": [],
   "source": [
    "net = Net()"
   ]
  },
  {
   "cell_type": "code",
   "execution_count": 53,
   "id": "chief-certificate",
   "metadata": {},
   "outputs": [
    {
     "data": {
      "text/plain": [
       "Net(\n",
       "  (conv1): Conv2d(3, 6, kernel_size=(5, 5), stride=(1, 1))\n",
       "  (conv2): Conv2d(6, 16, kernel_size=(5, 5), stride=(1, 1))\n",
       "  (fc1): Linear(in_features=400, out_features=120, bias=True)\n",
       "  (fc2): Linear(in_features=120, out_features=84, bias=True)\n",
       "  (fc3): Linear(in_features=84, out_features=10, bias=True)\n",
       ")"
      ]
     },
     "execution_count": 53,
     "metadata": {},
     "output_type": "execute_result"
    }
   ],
   "source": [
    "net"
   ]
  },
  {
   "cell_type": "code",
   "execution_count": 82,
   "id": "common-boring",
   "metadata": {},
   "outputs": [
    {
     "data": {
      "text/plain": [
       "[Parameter containing:\n",
       " tensor([[[[-0.0283,  0.0698, -0.0194,  0.1097, -0.0779],\n",
       "           [ 0.0788, -0.0198,  0.0678, -0.0083,  0.0326],\n",
       "           [-0.0045, -0.0944,  0.0585,  0.0432,  0.0062],\n",
       "           [-0.0966,  0.0774, -0.0157,  0.0500, -0.0951],\n",
       "           [-0.1026, -0.0129, -0.0190,  0.0968, -0.0982]],\n",
       " \n",
       "          [[ 0.1065, -0.1020,  0.0146, -0.0051, -0.0652],\n",
       "           [ 0.0642,  0.0488,  0.0691,  0.0492, -0.0315],\n",
       "           [ 0.0689, -0.0073, -0.0567,  0.0766, -0.0953],\n",
       "           [-0.0107, -0.0729, -0.0037, -0.0300, -0.0119],\n",
       "           [-0.1129,  0.0370,  0.0335,  0.0818, -0.0279]],\n",
       " \n",
       "          [[-0.0439, -0.0852, -0.0632,  0.0062,  0.1039],\n",
       "           [ 0.1113,  0.0165,  0.0922, -0.0963, -0.0394],\n",
       "           [-0.0086, -0.0909, -0.1090, -0.0715, -0.0114],\n",
       "           [ 0.1019, -0.0076,  0.0160, -0.0882,  0.0285],\n",
       "           [-0.0952, -0.0964, -0.0240, -0.1004,  0.0037]]],\n",
       " \n",
       " \n",
       "         [[[-0.0608, -0.0543, -0.0915, -0.0462,  0.0697],\n",
       "           [ 0.0638, -0.0176, -0.0165,  0.0411,  0.1109],\n",
       "           [ 0.0862,  0.0357,  0.1130,  0.0370,  0.0617],\n",
       "           [-0.0627, -0.0925,  0.0389,  0.0433,  0.0706],\n",
       "           [-0.0024, -0.0777, -0.0449, -0.0494, -0.0677]],\n",
       " \n",
       "          [[-0.1105, -0.0283,  0.0758,  0.1044,  0.0663],\n",
       "           [ 0.0182,  0.0200,  0.0436, -0.0222,  0.0119],\n",
       "           [ 0.0087,  0.0436, -0.0013, -0.0976,  0.0834],\n",
       "           [ 0.0635, -0.0867, -0.0185,  0.0213,  0.0608],\n",
       "           [ 0.0955, -0.1022,  0.0713,  0.1041, -0.0182]],\n",
       " \n",
       "          [[-0.0960, -0.0025, -0.0100,  0.0091,  0.0915],\n",
       "           [ 0.0370, -0.0405,  0.0953, -0.0880,  0.0042],\n",
       "           [-0.0181,  0.0627, -0.0983,  0.0383,  0.0508],\n",
       "           [-0.0030, -0.0144,  0.0979,  0.0729,  0.0753],\n",
       "           [ 0.0747,  0.0144, -0.0046,  0.0336,  0.0668]]],\n",
       " \n",
       " \n",
       "         [[[ 0.0231,  0.1044,  0.0248,  0.0636,  0.0631],\n",
       "           [ 0.0075,  0.0453,  0.0757, -0.0378,  0.0878],\n",
       "           [ 0.0757, -0.1014, -0.0126,  0.0550, -0.0761],\n",
       "           [-0.0699, -0.1027, -0.0393, -0.0541, -0.0117],\n",
       "           [ 0.0757, -0.0934, -0.1081,  0.0191,  0.0855]],\n",
       " \n",
       "          [[-0.1067, -0.0344, -0.0258,  0.0648,  0.0340],\n",
       "           [ 0.0059, -0.0723, -0.0738,  0.0111, -0.0250],\n",
       "           [-0.0091,  0.0065,  0.0106, -0.0702, -0.0013],\n",
       "           [-0.0299, -0.0339,  0.0858,  0.0576,  0.0712],\n",
       "           [-0.0703,  0.0185, -0.0203,  0.0672,  0.0049]],\n",
       " \n",
       "          [[ 0.1004, -0.0712, -0.0146, -0.0932, -0.0119],\n",
       "           [-0.1003,  0.0266,  0.0389, -0.0738, -0.0148],\n",
       "           [ 0.0377, -0.0258,  0.0389, -0.0233, -0.0375],\n",
       "           [-0.0335,  0.0990, -0.0270,  0.0032, -0.0581],\n",
       "           [ 0.0652, -0.1123,  0.0004,  0.0786,  0.0890]]],\n",
       " \n",
       " \n",
       "         [[[ 0.0041, -0.1065,  0.0570,  0.0323,  0.0773],\n",
       "           [-0.0593, -0.0775,  0.0660,  0.0756, -0.1026],\n",
       "           [-0.0396,  0.0537,  0.0856,  0.0799,  0.0933],\n",
       "           [ 0.0685,  0.0222, -0.0213,  0.0159, -0.0160],\n",
       "           [ 0.0455, -0.0532, -0.0015,  0.1090, -0.0309]],\n",
       " \n",
       "          [[-0.1095,  0.0725,  0.1013, -0.0881,  0.0028],\n",
       "           [ 0.0249,  0.0677, -0.0924, -0.0901, -0.0872],\n",
       "           [-0.0892, -0.0788, -0.0288, -0.0842,  0.0574],\n",
       "           [-0.0431, -0.1032,  0.1091,  0.0405,  0.0758],\n",
       "           [ 0.0206, -0.0263,  0.0563, -0.1016,  0.1112]],\n",
       " \n",
       "          [[ 0.0934,  0.0222, -0.0084,  0.0636, -0.0328],\n",
       "           [-0.0309, -0.0296, -0.0950, -0.0256, -0.0137],\n",
       "           [ 0.0405, -0.1047, -0.0787,  0.0573,  0.0685],\n",
       "           [-0.0386, -0.1081,  0.0781, -0.0649,  0.1009],\n",
       "           [-0.0739, -0.0270,  0.1020,  0.0728, -0.0852]]],\n",
       " \n",
       " \n",
       "         [[[ 0.0547, -0.1092,  0.1081,  0.0776, -0.0167],\n",
       "           [-0.0999,  0.0049, -0.0912, -0.0066,  0.0803],\n",
       "           [ 0.0659,  0.0160,  0.0314, -0.1083, -0.0357],\n",
       "           [-0.0582,  0.0669,  0.1005, -0.0311,  0.0452],\n",
       "           [-0.0017, -0.0759,  0.0686, -0.0502, -0.0959]],\n",
       " \n",
       "          [[-0.0541,  0.0705,  0.0661, -0.0730,  0.0209],\n",
       "           [ 0.1114,  0.0270, -0.1121,  0.0016, -0.1147],\n",
       "           [ 0.0968, -0.0806,  0.0935, -0.0907,  0.0278],\n",
       "           [-0.0528, -0.0279, -0.0003, -0.0691,  0.0647],\n",
       "           [-0.0208,  0.0567, -0.1074, -0.0474, -0.0498]],\n",
       " \n",
       "          [[ 0.0295, -0.0406, -0.0272, -0.1006, -0.0678],\n",
       "           [-0.1056, -0.0493, -0.0139,  0.0812,  0.0851],\n",
       "           [-0.0229,  0.0761, -0.0657, -0.0222,  0.0820],\n",
       "           [ 0.0028, -0.0803,  0.0266, -0.0221,  0.0683],\n",
       "           [-0.0044,  0.0148,  0.1131, -0.0877,  0.0043]]],\n",
       " \n",
       " \n",
       "         [[[ 0.0834,  0.0004,  0.0044,  0.0750,  0.0611],\n",
       "           [-0.0924,  0.0691, -0.1068, -0.0533, -0.0646],\n",
       "           [-0.0236,  0.0246,  0.0989, -0.1126, -0.1077],\n",
       "           [ 0.0106, -0.0464,  0.0173,  0.0358, -0.0248],\n",
       "           [ 0.1101,  0.0583,  0.0760,  0.0338,  0.0875]],\n",
       " \n",
       "          [[ 0.0018, -0.0956,  0.1067, -0.1139,  0.1016],\n",
       "           [-0.0176,  0.0011, -0.0286, -0.0275, -0.0072],\n",
       "           [ 0.0161,  0.0150,  0.0738, -0.0831, -0.0009],\n",
       "           [ 0.0121,  0.0382,  0.1147,  0.0385, -0.0734],\n",
       "           [ 0.0617, -0.0622,  0.0748, -0.0649, -0.0063]],\n",
       " \n",
       "          [[-0.0664, -0.0640, -0.0775, -0.0254, -0.0437],\n",
       "           [-0.0861,  0.0765,  0.1098, -0.0177, -0.0793],\n",
       "           [ 0.0340, -0.0758, -0.0793, -0.0115, -0.0620],\n",
       "           [ 0.0505,  0.0843, -0.0743, -0.0021, -0.1007],\n",
       "           [ 0.0496, -0.0396, -0.0517,  0.0392,  0.0534]]]], requires_grad=True),\n",
       " Parameter containing:\n",
       " tensor([ 0.0423,  0.0189,  0.0210, -0.0801, -0.0334,  0.1085],\n",
       "        requires_grad=True),\n",
       " Parameter containing:\n",
       " tensor([[[[ 0.0462, -0.0580,  0.0049,  0.0801,  0.0319],\n",
       "           [ 0.0486, -0.0109,  0.0656,  0.0754, -0.0440],\n",
       "           [ 0.0440, -0.0789,  0.0367,  0.0626,  0.0571],\n",
       "           [ 0.0651,  0.0163, -0.0281, -0.0168,  0.0442],\n",
       "           [-0.0683,  0.0813, -0.0261, -0.0777,  0.0284]],\n",
       " \n",
       "          [[ 0.0154,  0.0597,  0.0051,  0.0104,  0.0193],\n",
       "           [-0.0188, -0.0059, -0.0715,  0.0680,  0.0696],\n",
       "           [-0.0088,  0.0777, -0.0757, -0.0469,  0.0439],\n",
       "           [-0.0377,  0.0788, -0.0415, -0.0348, -0.0048],\n",
       "           [ 0.0130, -0.0774,  0.0523, -0.0371,  0.0042]],\n",
       " \n",
       "          [[-0.0659,  0.0191, -0.0318,  0.0777,  0.0663],\n",
       "           [-0.0110,  0.0117,  0.0243,  0.0358,  0.0520],\n",
       "           [ 0.0357, -0.0063, -0.0391,  0.0456,  0.0526],\n",
       "           [-0.0695, -0.0183,  0.0625, -0.0503,  0.0176],\n",
       "           [ 0.0014, -0.0185,  0.0092,  0.0760,  0.0055]],\n",
       " \n",
       "          [[ 0.0558,  0.0324,  0.0690, -0.0115, -0.0649],\n",
       "           [-0.0184,  0.0271,  0.0812, -0.0316,  0.0031],\n",
       "           [-0.0366, -0.0532, -0.0797, -0.0265,  0.0414],\n",
       "           [-0.0111,  0.0058, -0.0795,  0.0327, -0.0360],\n",
       "           [-0.0558, -0.0230, -0.0642, -0.0173, -0.0337]],\n",
       " \n",
       "          [[-0.0658,  0.0534,  0.0132, -0.0340, -0.0707],\n",
       "           [-0.0095,  0.0686,  0.0266, -0.0303,  0.0700],\n",
       "           [ 0.0526, -0.0198,  0.0742,  0.0793,  0.0177],\n",
       "           [-0.0206,  0.0556, -0.0752,  0.0595, -0.0651],\n",
       "           [-0.0007, -0.0110, -0.0716, -0.0530, -0.0012]],\n",
       " \n",
       "          [[ 0.0255,  0.0454,  0.0798,  0.0506, -0.0700],\n",
       "           [ 0.0658,  0.0350, -0.0668, -0.0751,  0.0321],\n",
       "           [-0.0602,  0.0038, -0.0103, -0.0305, -0.0718],\n",
       "           [ 0.0121, -0.0083, -0.0559, -0.0590,  0.0074],\n",
       "           [ 0.0349, -0.0656, -0.0497, -0.0656, -0.0752]]],\n",
       " \n",
       " \n",
       "         [[[ 0.0412,  0.0281,  0.0085,  0.0315,  0.0695],\n",
       "           [ 0.0101,  0.0732, -0.0626,  0.0537,  0.0129],\n",
       "           [-0.0427, -0.0795,  0.0047, -0.0424,  0.0198],\n",
       "           [-0.0724,  0.0254, -0.0048,  0.0650, -0.0513],\n",
       "           [-0.0031, -0.0189, -0.0035,  0.0433,  0.0187]],\n",
       " \n",
       "          [[-0.0073, -0.0038, -0.0670, -0.0069,  0.0684],\n",
       "           [ 0.0241, -0.0302,  0.0729,  0.0093,  0.0491],\n",
       "           [-0.0623,  0.0016,  0.0340,  0.0405,  0.0180],\n",
       "           [ 0.0608, -0.0112,  0.0790,  0.0816,  0.0757],\n",
       "           [-0.0436,  0.0554, -0.0474,  0.0005,  0.0468]],\n",
       " \n",
       "          [[-0.0790,  0.0734, -0.0755,  0.0309, -0.0444],\n",
       "           [-0.0451, -0.0362,  0.0651,  0.0528, -0.0066],\n",
       "           [ 0.0139,  0.0280,  0.0707, -0.0746,  0.0758],\n",
       "           [-0.0791,  0.0772,  0.0424, -0.0469, -0.0428],\n",
       "           [-0.0667, -0.0336,  0.0681,  0.0523,  0.0306]],\n",
       " \n",
       "          [[ 0.0748,  0.0024, -0.0047,  0.0185, -0.0679],\n",
       "           [-0.0599, -0.0808,  0.0564,  0.0698,  0.0372],\n",
       "           [ 0.0218, -0.0081, -0.0681,  0.0645, -0.0150],\n",
       "           [-0.0247,  0.0188,  0.0099,  0.0032, -0.0727],\n",
       "           [ 0.0692,  0.0163, -0.0148,  0.0356, -0.0302]],\n",
       " \n",
       "          [[-0.0308, -0.0102, -0.0170, -0.0163, -0.0271],\n",
       "           [ 0.0375,  0.0810,  0.0393, -0.0460, -0.0783],\n",
       "           [-0.0570, -0.0140, -0.0319, -0.0211, -0.0277],\n",
       "           [ 0.0706, -0.0110,  0.0645, -0.0086, -0.0310],\n",
       "           [ 0.0239,  0.0028,  0.0501,  0.0454, -0.0669]],\n",
       " \n",
       "          [[ 0.0503, -0.0270, -0.0492, -0.0604, -0.0659],\n",
       "           [ 0.0510,  0.0793, -0.0484,  0.0553,  0.0241],\n",
       "           [-0.0236,  0.0428, -0.0745, -0.0433,  0.0275],\n",
       "           [-0.0484,  0.0487, -0.0296, -0.0459,  0.0586],\n",
       "           [-0.0124, -0.0294,  0.0757,  0.0198,  0.0052]]],\n",
       " \n",
       " \n",
       "         [[[-0.0710, -0.0103,  0.0571,  0.0291, -0.0003],\n",
       "           [ 0.0277,  0.0085, -0.0030,  0.0439, -0.0425],\n",
       "           [-0.0031, -0.0150, -0.0538, -0.0619, -0.0422],\n",
       "           [ 0.0056, -0.0010, -0.0158, -0.0186, -0.0084],\n",
       "           [ 0.0222, -0.0726,  0.0598,  0.0035, -0.0049]],\n",
       " \n",
       "          [[-0.0044,  0.0020,  0.0239, -0.0158,  0.0720],\n",
       "           [-0.0185,  0.0617,  0.0205, -0.0639,  0.0124],\n",
       "           [ 0.0030, -0.0096,  0.0594, -0.0356,  0.0722],\n",
       "           [-0.0183, -0.0365, -0.0641, -0.0695, -0.0052],\n",
       "           [-0.0304, -0.0575,  0.0645,  0.0640, -0.0162]],\n",
       " \n",
       "          [[-0.0450, -0.0136,  0.0653, -0.0714, -0.0708],\n",
       "           [-0.0137, -0.0664,  0.0164, -0.0368, -0.0409],\n",
       "           [ 0.0032, -0.0262, -0.0709,  0.0713, -0.0195],\n",
       "           [-0.0063,  0.0445, -0.0676,  0.0328, -0.0298],\n",
       "           [ 0.0015,  0.0702, -0.0259, -0.0288,  0.0003]],\n",
       " \n",
       "          [[ 0.0015, -0.0228, -0.0162,  0.0418,  0.0206],\n",
       "           [-0.0429,  0.0513,  0.0762,  0.0458, -0.0419],\n",
       "           [ 0.0338, -0.0244,  0.0774, -0.0068, -0.0296],\n",
       "           [ 0.0226, -0.0402,  0.0244, -0.0498,  0.0501],\n",
       "           [ 0.0459, -0.0409,  0.0538,  0.0297,  0.0712]],\n",
       " \n",
       "          [[-0.0141,  0.0667, -0.0161, -0.0136,  0.0778],\n",
       "           [-0.0511, -0.0739, -0.0512, -0.0201, -0.0060],\n",
       "           [-0.0147,  0.0177,  0.0551,  0.0258,  0.0128],\n",
       "           [-0.0020, -0.0219, -0.0095,  0.0103, -0.0156],\n",
       "           [ 0.0568,  0.0476, -0.0330, -0.0398, -0.0033]],\n",
       " \n",
       "          [[-0.0329, -0.0256,  0.0646,  0.0047, -0.0034],\n",
       "           [ 0.0007,  0.0429, -0.0299, -0.0256, -0.0041],\n",
       "           [ 0.0044, -0.0661,  0.0550,  0.0286, -0.0672],\n",
       "           [ 0.0200,  0.0105, -0.0181,  0.0544,  0.0367],\n",
       "           [ 0.0553, -0.0418, -0.0124,  0.0342,  0.0129]]],\n",
       " \n",
       " \n",
       "         ...,\n",
       " \n",
       " \n",
       "         [[[ 0.0757,  0.0322,  0.0506, -0.0352,  0.0532],\n",
       "           [ 0.0421, -0.0421, -0.0657,  0.0762,  0.0689],\n",
       "           [-0.0489,  0.0536, -0.0704,  0.0371,  0.0674],\n",
       "           [ 0.0307,  0.0237, -0.0443,  0.0398, -0.0490],\n",
       "           [-0.0482, -0.0182,  0.0737, -0.0528,  0.0153]],\n",
       " \n",
       "          [[-0.0282,  0.0075, -0.0055,  0.0503, -0.0277],\n",
       "           [ 0.0432, -0.0640, -0.0671,  0.0192,  0.0725],\n",
       "           [ 0.0622, -0.0296, -0.0324,  0.0070, -0.0765],\n",
       "           [ 0.0064, -0.0086, -0.0291,  0.0553,  0.0626],\n",
       "           [ 0.0756, -0.0705, -0.0718,  0.0072,  0.0770]],\n",
       " \n",
       "          [[-0.0623,  0.0573, -0.0802,  0.0393, -0.0180],\n",
       "           [ 0.0501,  0.0509,  0.0015, -0.0482,  0.0214],\n",
       "           [-0.0105, -0.0508,  0.0812,  0.0045, -0.0212],\n",
       "           [-0.0446, -0.0165, -0.0586,  0.0440, -0.0182],\n",
       "           [-0.0637, -0.0210,  0.0341,  0.0203,  0.0047]],\n",
       " \n",
       "          [[ 0.0028, -0.0709,  0.0127, -0.0430, -0.0721],\n",
       "           [-0.0435,  0.0479, -0.0815,  0.0133, -0.0477],\n",
       "           [ 0.0569,  0.0036, -0.0102,  0.0198,  0.0577],\n",
       "           [ 0.0382, -0.0100,  0.0610,  0.0472, -0.0243],\n",
       "           [ 0.0572, -0.0732, -0.0263, -0.0258, -0.0780]],\n",
       " \n",
       "          [[-0.0395,  0.0550, -0.0071,  0.0402,  0.0186],\n",
       "           [-0.0373,  0.0440, -0.0581, -0.0260, -0.0025],\n",
       "           [-0.0270, -0.0207,  0.0254, -0.0073,  0.0146],\n",
       "           [-0.0645,  0.0474, -0.0670,  0.0755, -0.0280],\n",
       "           [-0.0334,  0.0752, -0.0377, -0.0100,  0.0455]],\n",
       " \n",
       "          [[ 0.0491,  0.0030, -0.0434,  0.0563, -0.0539],\n",
       "           [-0.0112, -0.0168,  0.0699,  0.0677, -0.0312],\n",
       "           [ 0.0059, -0.0640, -0.0697, -0.0230, -0.0192],\n",
       "           [-0.0673,  0.0292,  0.0660, -0.0310,  0.0226],\n",
       "           [ 0.0254, -0.0144,  0.0631,  0.0479, -0.0252]]],\n",
       " \n",
       " \n",
       "         [[[ 0.0104, -0.0419,  0.0788,  0.0653, -0.0414],\n",
       "           [ 0.0515, -0.0304,  0.0121, -0.0556,  0.0401],\n",
       "           [ 0.0765,  0.0069, -0.0068, -0.0479, -0.0569],\n",
       "           [ 0.0580, -0.0732,  0.0412,  0.0794, -0.0527],\n",
       "           [-0.0686, -0.0168,  0.0746,  0.0109, -0.0560]],\n",
       " \n",
       "          [[ 0.0191, -0.0416,  0.0708,  0.0290, -0.0014],\n",
       "           [ 0.0448,  0.0013,  0.0722,  0.0802, -0.0382],\n",
       "           [-0.0065,  0.0423,  0.0555, -0.0010,  0.0483],\n",
       "           [-0.0641,  0.0273,  0.0713, -0.0604, -0.0085],\n",
       "           [-0.0612,  0.0344, -0.0177, -0.0767, -0.0770]],\n",
       " \n",
       "          [[-0.0427,  0.0765,  0.0646, -0.0237,  0.0196],\n",
       "           [-0.0086,  0.0365,  0.0764, -0.0407, -0.0297],\n",
       "           [-0.0492, -0.0363,  0.0122,  0.0362,  0.0286],\n",
       "           [ 0.0205, -0.0462, -0.0431,  0.0045,  0.0619],\n",
       "           [-0.0319,  0.0734, -0.0102, -0.0201,  0.0602]],\n",
       " \n",
       "          [[ 0.0712, -0.0810,  0.0389, -0.0810, -0.0127],\n",
       "           [ 0.0298, -0.0125,  0.0794, -0.0033,  0.0178],\n",
       "           [-0.0121, -0.0437,  0.0240, -0.0364,  0.0242],\n",
       "           [-0.0065,  0.0577, -0.0315,  0.0284,  0.0739],\n",
       "           [ 0.0550,  0.0413,  0.0701,  0.0746,  0.0344]],\n",
       " \n",
       "          [[ 0.0555,  0.0236, -0.0572,  0.0469, -0.0432],\n",
       "           [ 0.0576, -0.0389, -0.0119, -0.0785,  0.0694],\n",
       "           [-0.0347, -0.0259, -0.0207, -0.0445, -0.0681],\n",
       "           [-0.0287, -0.0590,  0.0212, -0.0134, -0.0171],\n",
       "           [-0.0538, -0.0593, -0.0749, -0.0571,  0.0543]],\n",
       " \n",
       "          [[-0.0522,  0.0391, -0.0481,  0.0117, -0.0528],\n",
       "           [-0.0606,  0.0310, -0.0210,  0.0443,  0.0065],\n",
       "           [ 0.0512, -0.0711,  0.0621, -0.0204,  0.0234],\n",
       "           [-0.0707, -0.0452, -0.0811,  0.0063, -0.0245],\n",
       "           [-0.0711, -0.0543, -0.0430, -0.0130, -0.0495]]],\n",
       " \n",
       " \n",
       "         [[[-0.0055, -0.0663,  0.0048,  0.0806, -0.0113],\n",
       "           [ 0.0747, -0.0272,  0.0025,  0.0580,  0.0655],\n",
       "           [-0.0559,  0.0753,  0.0172,  0.0137, -0.0798],\n",
       "           [ 0.0279,  0.0525,  0.0358, -0.0196,  0.0130],\n",
       "           [ 0.0589,  0.0592,  0.0719,  0.0610,  0.0717]],\n",
       " \n",
       "          [[ 0.0165, -0.0774,  0.0638, -0.0419, -0.0040],\n",
       "           [-0.0465, -0.0292,  0.0544,  0.0623, -0.0333],\n",
       "           [-0.0051, -0.0118,  0.0105,  0.0386,  0.0441],\n",
       "           [-0.0778,  0.0461,  0.0689,  0.0372, -0.0759],\n",
       "           [-0.0699, -0.0075,  0.0702,  0.0607,  0.0135]],\n",
       " \n",
       "          [[-0.0693, -0.0436,  0.0229,  0.0464,  0.0192],\n",
       "           [-0.0075,  0.0311,  0.0227, -0.0276,  0.0008],\n",
       "           [-0.0048, -0.0416, -0.0360, -0.0057, -0.0274],\n",
       "           [-0.0713, -0.0061,  0.0788, -0.0166, -0.0431],\n",
       "           [-0.0157, -0.0065,  0.0816, -0.0110, -0.0008]],\n",
       " \n",
       "          [[-0.0455,  0.0424,  0.0624, -0.0599, -0.0531],\n",
       "           [-0.0725, -0.0751,  0.0755, -0.0118, -0.0051],\n",
       "           [-0.0572,  0.0131,  0.0810,  0.0242,  0.0231],\n",
       "           [ 0.0756, -0.0353, -0.0142,  0.0436, -0.0673],\n",
       "           [-0.0189,  0.0011,  0.0454,  0.0067,  0.0481]],\n",
       " \n",
       "          [[-0.0640, -0.0004, -0.0286,  0.0793, -0.0333],\n",
       "           [ 0.0278, -0.0674,  0.0676, -0.0230, -0.0195],\n",
       "           [ 0.0557,  0.0638,  0.0270, -0.0405,  0.0414],\n",
       "           [-0.0027,  0.0196, -0.0581, -0.0550, -0.0101],\n",
       "           [ 0.0428, -0.0565,  0.0436,  0.0731, -0.0004]],\n",
       " \n",
       "          [[-0.0334,  0.0155,  0.0358, -0.0794,  0.0476],\n",
       "           [-0.0180, -0.0806,  0.0470, -0.0637, -0.0489],\n",
       "           [ 0.0269,  0.0750,  0.0212, -0.0337, -0.0559],\n",
       "           [ 0.0291,  0.0150, -0.0218, -0.0553, -0.0229],\n",
       "           [-0.0644,  0.0188, -0.0039,  0.0713, -0.0101]]]], requires_grad=True),\n",
       " Parameter containing:\n",
       " tensor([-0.0111,  0.0229, -0.0474, -0.0379,  0.0155,  0.0778,  0.0457, -0.0480,\n",
       "         -0.0635, -0.0343,  0.0104, -0.0597,  0.0801, -0.0718, -0.0085,  0.0777],\n",
       "        requires_grad=True),\n",
       " Parameter containing:\n",
       " tensor([[ 0.0312,  0.0237, -0.0306,  ...,  0.0070,  0.0442, -0.0030],\n",
       "         [ 0.0224,  0.0223, -0.0114,  ...,  0.0390, -0.0269, -0.0013],\n",
       "         [-0.0409, -0.0206,  0.0178,  ...,  0.0390,  0.0153,  0.0312],\n",
       "         ...,\n",
       "         [-0.0312,  0.0329,  0.0397,  ...,  0.0231, -0.0337, -0.0270],\n",
       "         [ 0.0037,  0.0252,  0.0375,  ..., -0.0345,  0.0453, -0.0119],\n",
       "         [ 0.0080,  0.0073, -0.0215,  ...,  0.0043,  0.0091, -0.0476]],\n",
       "        requires_grad=True),\n",
       " Parameter containing:\n",
       " tensor([ 0.0039,  0.0196, -0.0319, -0.0445,  0.0121, -0.0110,  0.0034, -0.0395,\n",
       "          0.0438, -0.0126,  0.0318,  0.0226,  0.0009, -0.0285,  0.0382, -0.0482,\n",
       "          0.0047, -0.0500,  0.0268,  0.0188,  0.0495, -0.0026, -0.0091, -0.0325,\n",
       "          0.0021, -0.0136, -0.0099,  0.0425,  0.0416, -0.0303, -0.0062, -0.0191,\n",
       "         -0.0263,  0.0184,  0.0433,  0.0491,  0.0426, -0.0379,  0.0385,  0.0060,\n",
       "         -0.0391, -0.0049,  0.0463, -0.0356, -0.0098, -0.0043,  0.0177,  0.0177,\n",
       "          0.0449, -0.0014,  0.0462,  0.0158,  0.0344, -0.0009, -0.0122,  0.0256,\n",
       "          0.0440, -0.0290, -0.0111,  0.0281,  0.0322, -0.0368,  0.0113, -0.0273,\n",
       "          0.0051,  0.0468, -0.0061, -0.0085, -0.0392,  0.0049, -0.0146,  0.0062,\n",
       "         -0.0083,  0.0238,  0.0107,  0.0454,  0.0367, -0.0089,  0.0173,  0.0135,\n",
       "         -0.0003,  0.0281, -0.0397, -0.0097, -0.0429,  0.0077, -0.0431, -0.0136,\n",
       "          0.0112, -0.0437,  0.0370,  0.0009, -0.0114,  0.0009, -0.0407,  0.0336,\n",
       "          0.0280, -0.0180, -0.0164,  0.0427, -0.0256,  0.0029, -0.0040, -0.0043,\n",
       "          0.0027, -0.0065, -0.0156, -0.0411,  0.0438,  0.0439, -0.0466,  0.0201,\n",
       "          0.0245, -0.0180,  0.0278, -0.0185, -0.0341, -0.0264, -0.0423, -0.0498],\n",
       "        requires_grad=True),\n",
       " Parameter containing:\n",
       " tensor([[ 0.0776,  0.0827,  0.0362,  ...,  0.0680,  0.0272, -0.0002],\n",
       "         [-0.0393,  0.0628, -0.0484,  ..., -0.0501, -0.0908,  0.0561],\n",
       "         [-0.0127, -0.0283,  0.0336,  ..., -0.0069, -0.0518,  0.0352],\n",
       "         ...,\n",
       "         [ 0.0404,  0.0570,  0.0293,  ...,  0.0170,  0.0227, -0.0005],\n",
       "         [-0.0424, -0.0337,  0.0175,  ...,  0.0638,  0.0447,  0.0669],\n",
       "         [-0.0458, -0.0411,  0.0215,  ..., -0.0538, -0.0632, -0.0326]],\n",
       "        requires_grad=True),\n",
       " Parameter containing:\n",
       " tensor([-0.0481, -0.0908,  0.0074, -0.0895, -0.0026,  0.0119,  0.0458,  0.0266,\n",
       "          0.0702, -0.0581, -0.0254, -0.0305, -0.0816, -0.0336, -0.0640,  0.0055,\n",
       "         -0.0359, -0.0322, -0.0298,  0.0754, -0.0652, -0.0061, -0.0368, -0.0484,\n",
       "         -0.0861,  0.0595, -0.0551, -0.0513,  0.0026,  0.0341, -0.0811,  0.0150,\n",
       "         -0.0145, -0.0219,  0.0420,  0.0467,  0.0597, -0.0620, -0.0737,  0.0022,\n",
       "         -0.0141, -0.0712, -0.0163,  0.0259,  0.0746, -0.0580, -0.0033, -0.0663,\n",
       "         -0.0749, -0.0231, -0.0319, -0.0340, -0.0696, -0.0136, -0.0187,  0.0476,\n",
       "         -0.0753,  0.0125, -0.0258, -0.0126,  0.0907, -0.0777, -0.0905, -0.0489,\n",
       "         -0.0261, -0.0081, -0.0681,  0.0431, -0.0334, -0.0637, -0.0792, -0.0356,\n",
       "         -0.0365, -0.0886,  0.0848, -0.0879, -0.0747,  0.0691, -0.0853,  0.0655,\n",
       "          0.0804,  0.0002,  0.0158,  0.0848], requires_grad=True),\n",
       " Parameter containing:\n",
       " tensor([[-0.1032, -0.0778,  0.0223, -0.1013, -0.0469,  0.0292,  0.0958,  0.0612,\n",
       "          -0.0775, -0.0156, -0.0536, -0.0574, -0.0816,  0.0890,  0.0674,  0.0314,\n",
       "           0.0840, -0.0089, -0.0380, -0.0685,  0.0043, -0.0150,  0.0242,  0.0677,\n",
       "          -0.0325, -0.0164,  0.0526,  0.0570,  0.0275, -0.0950,  0.0775,  0.0336,\n",
       "           0.0728,  0.0298,  0.0262,  0.0290,  0.0281, -0.0197, -0.0645,  0.0755,\n",
       "          -0.0290, -0.0019, -0.0654, -0.1006, -0.0474, -0.0891,  0.0328,  0.1030,\n",
       "           0.0020,  0.0729,  0.1006, -0.0595,  0.0377,  0.0348, -0.0195, -0.0277,\n",
       "          -0.1008,  0.0117, -0.0745, -0.0245,  0.1069,  0.0769,  0.0721, -0.0428,\n",
       "           0.0991,  0.0646,  0.0335, -0.0571, -0.0889,  0.0350,  0.0872,  0.0508,\n",
       "           0.0176, -0.0785, -0.0595, -0.0898,  0.1084,  0.0806, -0.0625,  0.0791,\n",
       "           0.0448,  0.0222,  0.0775, -0.0388],\n",
       "         [-0.0861, -0.0082,  0.0977, -0.0532, -0.1037,  0.0597,  0.0252, -0.0917,\n",
       "           0.0617,  0.0430,  0.0323,  0.0436,  0.0431, -0.0916,  0.0723, -0.0441,\n",
       "          -0.0976,  0.0681, -0.1061,  0.0051,  0.0289, -0.0634, -0.0197,  0.0539,\n",
       "           0.0355, -0.0397,  0.0201, -0.0701,  0.0202, -0.0502, -0.0400,  0.0131,\n",
       "          -0.0914, -0.0703,  0.0305, -0.0498,  0.0603,  0.0353, -0.0240, -0.0601,\n",
       "          -0.0696,  0.0893, -0.0367,  0.0137, -0.1064, -0.0018, -0.0165,  0.0325,\n",
       "          -0.0242,  0.0066,  0.0361,  0.0995,  0.0621, -0.0143, -0.0059, -0.0059,\n",
       "           0.0082, -0.0648, -0.0100, -0.0219,  0.0609,  0.0891, -0.0092,  0.0978,\n",
       "           0.0554,  0.0369,  0.0107, -0.1081,  0.1087, -0.0714, -0.0738,  0.1030,\n",
       "           0.1075, -0.0954,  0.0181,  0.0487, -0.0091,  0.0008, -0.0583, -0.0713,\n",
       "          -0.0304, -0.0341,  0.0586,  0.0693],\n",
       "         [-0.0030, -0.0782, -0.0837, -0.0181,  0.1067, -0.0388, -0.0931,  0.0497,\n",
       "          -0.0484,  0.0374, -0.1029,  0.0165,  0.0932, -0.0939,  0.0338,  0.0984,\n",
       "          -0.0999,  0.0909,  0.0924, -0.0928,  0.0959,  0.0766, -0.0290, -0.0930,\n",
       "           0.0987, -0.0590,  0.0067,  0.0090, -0.0969,  0.0166, -0.0131,  0.0718,\n",
       "           0.0570, -0.0302, -0.0752,  0.0012, -0.0436,  0.0945, -0.0779,  0.0508,\n",
       "          -0.0515, -0.0012, -0.0416,  0.0946, -0.0157, -0.0719, -0.0903, -0.0001,\n",
       "           0.0042, -0.0884, -0.0401,  0.0691,  0.0545,  0.0348,  0.0203, -0.0608,\n",
       "           0.0638,  0.0037, -0.0694, -0.0826,  0.0488, -0.0030,  0.0248, -0.0109,\n",
       "           0.0491, -0.0506, -0.0902, -0.0146,  0.0678, -0.0197, -0.0677,  0.0681,\n",
       "           0.0917, -0.0294, -0.0172, -0.0137, -0.0209,  0.0759,  0.0135,  0.0646,\n",
       "          -0.0142,  0.0997, -0.0229,  0.0134],\n",
       "         [-0.0635, -0.0511,  0.0777,  0.0211, -0.0725, -0.0703,  0.0613,  0.0024,\n",
       "          -0.1017,  0.0609, -0.0165, -0.0879,  0.0641, -0.0790,  0.0239,  0.0889,\n",
       "          -0.0982,  0.0385, -0.0279, -0.0947, -0.0774,  0.0722, -0.0098, -0.0860,\n",
       "           0.0842,  0.0447, -0.0271, -0.0969,  0.0663,  0.0600, -0.0598, -0.0084,\n",
       "          -0.0980, -0.0509, -0.1033, -0.0973, -0.0623, -0.0203,  0.0229,  0.0613,\n",
       "          -0.0382, -0.0882,  0.0278, -0.0038,  0.0707,  0.0189, -0.0622,  0.0779,\n",
       "          -0.0747, -0.0928,  0.0683,  0.0761,  0.0979, -0.0257,  0.0353,  0.0512,\n",
       "          -0.0782, -0.0857, -0.0716,  0.0639,  0.0697, -0.0336, -0.0145,  0.0978,\n",
       "           0.0079,  0.0607, -0.1001, -0.0484, -0.0667,  0.0207,  0.0638, -0.0562,\n",
       "           0.0367, -0.0407,  0.0955,  0.0062,  0.0369,  0.0481,  0.0235,  0.0030,\n",
       "           0.0743,  0.0152,  0.0184, -0.0498],\n",
       "         [-0.0925, -0.0461, -0.0408,  0.0978, -0.0841,  0.0849,  0.0656, -0.0844,\n",
       "          -0.0517,  0.0298,  0.0008, -0.0849, -0.0173,  0.0489,  0.0584,  0.0933,\n",
       "          -0.0604,  0.0885,  0.0050,  0.0839,  0.0364,  0.0386, -0.0013,  0.0909,\n",
       "          -0.0829,  0.0583, -0.0419,  0.0592, -0.0918, -0.0781, -0.0100, -0.0678,\n",
       "           0.0175,  0.0248, -0.0794,  0.0962,  0.0566,  0.1003, -0.0080,  0.0314,\n",
       "          -0.0781,  0.0835,  0.0006, -0.0230, -0.0848, -0.0883, -0.0418, -0.0571,\n",
       "           0.0180,  0.0805,  0.0672, -0.0945,  0.0843,  0.0250, -0.0284,  0.0453,\n",
       "          -0.0887,  0.0184,  0.0420,  0.0674,  0.0894,  0.0405, -0.0648,  0.0985,\n",
       "          -0.0532,  0.0107,  0.0356,  0.0812, -0.0817, -0.0405,  0.0248, -0.1071,\n",
       "          -0.0077, -0.1037,  0.0753,  0.0345, -0.0472,  0.0588,  0.0615,  0.0129,\n",
       "          -0.0445,  0.0802,  0.0642, -0.0381],\n",
       "         [-0.0587, -0.0258,  0.0661,  0.0060,  0.0186,  0.0649, -0.0390, -0.0394,\n",
       "           0.0857,  0.0308,  0.0400,  0.0211, -0.0772,  0.0317,  0.0772, -0.0681,\n",
       "           0.0581, -0.0667,  0.0110, -0.0229, -0.0923,  0.0813,  0.0764, -0.0048,\n",
       "          -0.0264,  0.0699,  0.0316,  0.1086, -0.0289,  0.0112,  0.0186,  0.1019,\n",
       "           0.0155, -0.0155, -0.0028, -0.0845, -0.0817, -0.0128,  0.0871, -0.0027,\n",
       "          -0.0457, -0.0340,  0.0967, -0.0861,  0.0738,  0.0360, -0.0974, -0.0843,\n",
       "           0.0248,  0.0804,  0.0724, -0.1071, -0.0191, -0.0029, -0.0904,  0.0182,\n",
       "          -0.0947,  0.0083,  0.0029, -0.0423,  0.0824, -0.0239, -0.0833,  0.0124,\n",
       "          -0.0062, -0.0125,  0.0778, -0.0264, -0.0420,  0.0365,  0.1029,  0.0753,\n",
       "           0.0890,  0.0126, -0.0999, -0.0022, -0.0111,  0.0608,  0.0428,  0.0200,\n",
       "          -0.0689,  0.1019,  0.0421,  0.0187],\n",
       "         [ 0.0502,  0.0612, -0.0725,  0.0836, -0.0429, -0.1075,  0.0447, -0.0178,\n",
       "           0.0453,  0.0524,  0.0854, -0.0851,  0.0896, -0.0065, -0.1004,  0.0295,\n",
       "          -0.0756,  0.0018,  0.0082, -0.0791, -0.0492,  0.0919,  0.0952, -0.0622,\n",
       "          -0.0294, -0.0927, -0.0700, -0.0610, -0.1071,  0.0178, -0.0031, -0.0519,\n",
       "          -0.0794,  0.0659,  0.0496,  0.0496, -0.0169, -0.0830, -0.0821, -0.0534,\n",
       "           0.0824,  0.0389,  0.0870,  0.0522, -0.0084, -0.0976, -0.0344, -0.0010,\n",
       "          -0.0636, -0.0995,  0.0534, -0.0677,  0.0987,  0.0005, -0.0190, -0.0322,\n",
       "          -0.0399, -0.0617, -0.0520, -0.0931, -0.0499, -0.0443, -0.0203,  0.0273,\n",
       "          -0.0967,  0.0596,  0.0181,  0.0829, -0.0394,  0.0007, -0.0097,  0.0729,\n",
       "          -0.0385, -0.0342,  0.0630, -0.0578,  0.0442,  0.0112,  0.0036,  0.0636,\n",
       "           0.0192,  0.0753,  0.0200, -0.0792],\n",
       "         [-0.0090,  0.0995, -0.0837, -0.0352, -0.0749, -0.0974, -0.1072,  0.0820,\n",
       "          -0.0408,  0.0324,  0.0046, -0.0031,  0.0445, -0.0725, -0.0419, -0.0397,\n",
       "           0.0177, -0.0819, -0.0773,  0.0942,  0.0160,  0.0080,  0.0951,  0.0047,\n",
       "           0.0688, -0.0520, -0.0741,  0.0579,  0.0660,  0.0861,  0.0852,  0.0299,\n",
       "           0.0396,  0.0165,  0.1023,  0.0174, -0.0643,  0.0323,  0.0910, -0.0932,\n",
       "           0.0719,  0.0615,  0.0680,  0.0261, -0.0248,  0.0322, -0.0397, -0.1042,\n",
       "           0.0060, -0.0402,  0.0643, -0.0396, -0.1084,  0.0250, -0.0410, -0.0356,\n",
       "          -0.0355, -0.0946, -0.0140, -0.0080, -0.0592,  0.1038,  0.0123, -0.0645,\n",
       "          -0.0908,  0.0491,  0.0246,  0.0776, -0.0389, -0.0352, -0.0889, -0.0806,\n",
       "          -0.0424,  0.0670,  0.0555, -0.0443,  0.0240,  0.0273,  0.0450, -0.1041,\n",
       "          -0.0970, -0.0944, -0.0538, -0.0373],\n",
       "         [-0.0125, -0.0373,  0.0855, -0.0181,  0.0183,  0.1035,  0.0206, -0.1046,\n",
       "           0.0480, -0.0615, -0.0416,  0.0593,  0.0206, -0.0765,  0.0276,  0.0147,\n",
       "          -0.0241,  0.0453, -0.0017,  0.0871,  0.0357, -0.0023,  0.0927, -0.0074,\n",
       "           0.0817,  0.0948, -0.0815,  0.0601, -0.0419,  0.0789, -0.1015,  0.0997,\n",
       "          -0.0767,  0.1079, -0.0522,  0.0065,  0.0397, -0.0553, -0.0607, -0.0453,\n",
       "           0.0904, -0.0293, -0.0366, -0.0763,  0.0943,  0.0850, -0.0036,  0.0729,\n",
       "          -0.1036,  0.0082, -0.0389,  0.0427, -0.0758, -0.0733,  0.0312,  0.0610,\n",
       "          -0.0659,  0.0944,  0.0960,  0.0441,  0.0914, -0.0207,  0.0007,  0.0750,\n",
       "          -0.0772, -0.0345, -0.0751, -0.0982, -0.0156, -0.0104, -0.0325, -0.0727,\n",
       "          -0.0627,  0.0760,  0.0543,  0.0319,  0.0317,  0.1041, -0.0930, -0.0476,\n",
       "           0.0402, -0.0971,  0.0482,  0.0676],\n",
       "         [-0.0596, -0.0994, -0.0860,  0.1020, -0.0168, -0.0522, -0.0907,  0.0167,\n",
       "           0.0741, -0.0155, -0.0139, -0.0229, -0.0529,  0.0595, -0.0563, -0.1006,\n",
       "           0.0496,  0.0220,  0.0036, -0.0454,  0.0714,  0.0425,  0.0399, -0.0860,\n",
       "           0.0739, -0.0373,  0.0105, -0.0941, -0.0019, -0.0528, -0.0406,  0.0221,\n",
       "          -0.0489, -0.0905,  0.0294,  0.0155, -0.0181, -0.0318,  0.0265, -0.0401,\n",
       "          -0.0098, -0.0321, -0.0396, -0.0219,  0.0416, -0.0910, -0.0987,  0.1004,\n",
       "          -0.0070, -0.0172, -0.1029,  0.0812,  0.0849,  0.1039,  0.0782,  0.0686,\n",
       "          -0.0324,  0.0802,  0.0473, -0.0350, -0.0073,  0.0793, -0.0417, -0.0107,\n",
       "          -0.0281, -0.1018,  0.0721,  0.0251, -0.0722,  0.0268,  0.0654,  0.0493,\n",
       "           0.0056, -0.0421, -0.0533, -0.0021,  0.0645, -0.0877,  0.0054,  0.0098,\n",
       "           0.0712, -0.0307,  0.0676,  0.0498]], requires_grad=True),\n",
       " Parameter containing:\n",
       " tensor([-0.0307,  0.0185, -0.0524,  0.0282, -0.0992, -0.0031,  0.0010,  0.0619,\n",
       "         -0.0926,  0.0208], requires_grad=True)]"
      ]
     },
     "execution_count": 82,
     "metadata": {},
     "output_type": "execute_result"
    }
   ],
   "source": [
    "list(net.parameters())"
   ]
  },
  {
   "cell_type": "code",
   "execution_count": 84,
   "id": "acknowledged-classics",
   "metadata": {},
   "outputs": [
    {
     "data": {
      "text/plain": [
       "<bound method Module.named_parameters of Net(\n",
       "  (conv1): Conv2d(3, 6, kernel_size=(5, 5), stride=(1, 1))\n",
       "  (conv2): Conv2d(6, 16, kernel_size=(5, 5), stride=(1, 1))\n",
       "  (fc1): Linear(in_features=400, out_features=120, bias=True)\n",
       "  (fc2): Linear(in_features=120, out_features=84, bias=True)\n",
       "  (fc3): Linear(in_features=84, out_features=10, bias=True)\n",
       ")>"
      ]
     },
     "execution_count": 84,
     "metadata": {},
     "output_type": "execute_result"
    }
   ],
   "source": [
    "net.named_parameters"
   ]
  },
  {
   "cell_type": "code",
   "execution_count": 81,
   "id": "accessory-conclusion",
   "metadata": {},
   "outputs": [
    {
     "name": "stdout",
     "output_type": "stream",
     "text": [
      "conv1.weight torch.Size([6, 3, 5, 5])\n",
      "conv1.bias torch.Size([6])\n",
      "conv2.weight torch.Size([16, 6, 5, 5])\n",
      "conv2.bias torch.Size([16])\n",
      "fc1.weight torch.Size([120, 400])\n",
      "fc1.bias torch.Size([120])\n",
      "fc2.weight torch.Size([84, 120])\n",
      "fc2.bias torch.Size([84])\n",
      "fc3.weight torch.Size([10, 84])\n",
      "fc3.bias torch.Size([10])\n"
     ]
    }
   ],
   "source": [
    "for name, paras in net.named_parameters():\n",
    "    print(name, paras.size())"
   ]
  },
  {
   "cell_type": "markdown",
   "id": "civilian-blackberry",
   "metadata": {},
   "source": [
    "### 定义损失函数和优化器"
   ]
  },
  {
   "cell_type": "code",
   "execution_count": 115,
   "id": "arranged-airline",
   "metadata": {},
   "outputs": [],
   "source": [
    "from torch import optim"
   ]
  },
  {
   "cell_type": "code",
   "execution_count": 116,
   "id": "czech-roommate",
   "metadata": {},
   "outputs": [],
   "source": [
    "criterion = nn.CrossEntropyLoss()\n",
    "optimizer = optim.SGD(params=net.parameters(), lr=0.001, momentum=0.9)"
   ]
  },
  {
   "cell_type": "markdown",
   "id": "controversial-toner",
   "metadata": {},
   "source": [
    "### 训练网络 "
   ]
  },
  {
   "cell_type": "code",
   "execution_count": 118,
   "id": "historical-dominican",
   "metadata": {},
   "outputs": [],
   "source": [
    "from torch.autograd import Variable\n",
    "import time"
   ]
  },
  {
   "cell_type": "code",
   "execution_count": 119,
   "id": "hairy-attraction",
   "metadata": {},
   "outputs": [
    {
     "data": {
      "text/plain": [
       "'torch.FloatTensor'"
      ]
     },
     "execution_count": 119,
     "metadata": {},
     "output_type": "execute_result"
    }
   ],
   "source": [
    "Variable(inputs, requires_grad=True).type()"
   ]
  },
  {
   "cell_type": "code",
   "execution_count": 128,
   "id": "blind-samuel",
   "metadata": {},
   "outputs": [
    {
     "ename": "RuntimeError",
     "evalue": "Expected all tensors to be on the same device, but found at least two devices, cuda:0 and cpu!",
     "output_type": "error",
     "traceback": [
      "\u001b[1;31m---------------------------------------------------------------------------\u001b[0m",
      "\u001b[1;31mRuntimeError\u001b[0m                              Traceback (most recent call last)",
      "\u001b[1;32m<ipython-input-128-68da45c6f623>\u001b[0m in \u001b[0;36m<module>\u001b[1;34m\u001b[0m\n\u001b[0;32m     22\u001b[0m \u001b[1;33m\u001b[0m\u001b[0m\n\u001b[0;32m     23\u001b[0m         \u001b[1;31m# 3-->更新参数\u001b[0m\u001b[1;33m\u001b[0m\u001b[1;33m\u001b[0m\u001b[1;33m\u001b[0m\u001b[0m\n\u001b[1;32m---> 24\u001b[1;33m         \u001b[0moptimizer\u001b[0m\u001b[1;33m.\u001b[0m\u001b[0mstep\u001b[0m\u001b[1;33m(\u001b[0m\u001b[1;33m)\u001b[0m\u001b[1;33m\u001b[0m\u001b[1;33m\u001b[0m\u001b[0m\n\u001b[0m\u001b[0;32m     25\u001b[0m \u001b[1;33m\u001b[0m\u001b[0m\n\u001b[0;32m     26\u001b[0m         \u001b[1;31m# 打印log信息\u001b[0m\u001b[1;33m\u001b[0m\u001b[1;33m\u001b[0m\u001b[1;33m\u001b[0m\u001b[0m\n",
      "\u001b[1;32mD:\\Ana3\\envs\\pytorch_1\\lib\\site-packages\\torch\\optim\\optimizer.py\u001b[0m in \u001b[0;36mwrapper\u001b[1;34m(*args, **kwargs)\u001b[0m\n\u001b[0;32m     87\u001b[0m                 \u001b[0mprofile_name\u001b[0m \u001b[1;33m=\u001b[0m \u001b[1;34m\"Optimizer.step#{}.step\"\u001b[0m\u001b[1;33m.\u001b[0m\u001b[0mformat\u001b[0m\u001b[1;33m(\u001b[0m\u001b[0mobj\u001b[0m\u001b[1;33m.\u001b[0m\u001b[0m__class__\u001b[0m\u001b[1;33m.\u001b[0m\u001b[0m__name__\u001b[0m\u001b[1;33m)\u001b[0m\u001b[1;33m\u001b[0m\u001b[1;33m\u001b[0m\u001b[0m\n\u001b[0;32m     88\u001b[0m                 \u001b[1;32mwith\u001b[0m \u001b[0mtorch\u001b[0m\u001b[1;33m.\u001b[0m\u001b[0mautograd\u001b[0m\u001b[1;33m.\u001b[0m\u001b[0mprofiler\u001b[0m\u001b[1;33m.\u001b[0m\u001b[0mrecord_function\u001b[0m\u001b[1;33m(\u001b[0m\u001b[0mprofile_name\u001b[0m\u001b[1;33m)\u001b[0m\u001b[1;33m:\u001b[0m\u001b[1;33m\u001b[0m\u001b[1;33m\u001b[0m\u001b[0m\n\u001b[1;32m---> 89\u001b[1;33m                     \u001b[1;32mreturn\u001b[0m \u001b[0mfunc\u001b[0m\u001b[1;33m(\u001b[0m\u001b[1;33m*\u001b[0m\u001b[0margs\u001b[0m\u001b[1;33m,\u001b[0m \u001b[1;33m**\u001b[0m\u001b[0mkwargs\u001b[0m\u001b[1;33m)\u001b[0m\u001b[1;33m\u001b[0m\u001b[1;33m\u001b[0m\u001b[0m\n\u001b[0m\u001b[0;32m     90\u001b[0m             \u001b[1;32mreturn\u001b[0m \u001b[0mwrapper\u001b[0m\u001b[1;33m\u001b[0m\u001b[1;33m\u001b[0m\u001b[0m\n\u001b[0;32m     91\u001b[0m \u001b[1;33m\u001b[0m\u001b[0m\n",
      "\u001b[1;32mD:\\Ana3\\envs\\pytorch_1\\lib\\site-packages\\torch\\autograd\\grad_mode.py\u001b[0m in \u001b[0;36mdecorate_context\u001b[1;34m(*args, **kwargs)\u001b[0m\n\u001b[0;32m     25\u001b[0m         \u001b[1;32mdef\u001b[0m \u001b[0mdecorate_context\u001b[0m\u001b[1;33m(\u001b[0m\u001b[1;33m*\u001b[0m\u001b[0margs\u001b[0m\u001b[1;33m,\u001b[0m \u001b[1;33m**\u001b[0m\u001b[0mkwargs\u001b[0m\u001b[1;33m)\u001b[0m\u001b[1;33m:\u001b[0m\u001b[1;33m\u001b[0m\u001b[1;33m\u001b[0m\u001b[0m\n\u001b[0;32m     26\u001b[0m             \u001b[1;32mwith\u001b[0m \u001b[0mself\u001b[0m\u001b[1;33m.\u001b[0m\u001b[0m__class__\u001b[0m\u001b[1;33m(\u001b[0m\u001b[1;33m)\u001b[0m\u001b[1;33m:\u001b[0m\u001b[1;33m\u001b[0m\u001b[1;33m\u001b[0m\u001b[0m\n\u001b[1;32m---> 27\u001b[1;33m                 \u001b[1;32mreturn\u001b[0m \u001b[0mfunc\u001b[0m\u001b[1;33m(\u001b[0m\u001b[1;33m*\u001b[0m\u001b[0margs\u001b[0m\u001b[1;33m,\u001b[0m \u001b[1;33m**\u001b[0m\u001b[0mkwargs\u001b[0m\u001b[1;33m)\u001b[0m\u001b[1;33m\u001b[0m\u001b[1;33m\u001b[0m\u001b[0m\n\u001b[0m\u001b[0;32m     28\u001b[0m         \u001b[1;32mreturn\u001b[0m \u001b[0mcast\u001b[0m\u001b[1;33m(\u001b[0m\u001b[0mF\u001b[0m\u001b[1;33m,\u001b[0m \u001b[0mdecorate_context\u001b[0m\u001b[1;33m)\u001b[0m\u001b[1;33m\u001b[0m\u001b[1;33m\u001b[0m\u001b[0m\n\u001b[0;32m     29\u001b[0m \u001b[1;33m\u001b[0m\u001b[0m\n",
      "\u001b[1;32mD:\\Ana3\\envs\\pytorch_1\\lib\\site-packages\\torch\\optim\\sgd.py\u001b[0m in \u001b[0;36mstep\u001b[1;34m(self, closure)\u001b[0m\n\u001b[0;32m    115\u001b[0m                   \u001b[0mlr\u001b[0m\u001b[1;33m,\u001b[0m\u001b[1;33m\u001b[0m\u001b[1;33m\u001b[0m\u001b[0m\n\u001b[0;32m    116\u001b[0m                   \u001b[0mdampening\u001b[0m\u001b[1;33m,\u001b[0m\u001b[1;33m\u001b[0m\u001b[1;33m\u001b[0m\u001b[0m\n\u001b[1;32m--> 117\u001b[1;33m                   nesterov)\n\u001b[0m\u001b[0;32m    118\u001b[0m \u001b[1;33m\u001b[0m\u001b[0m\n\u001b[0;32m    119\u001b[0m             \u001b[1;31m# update momentum_buffers in state\u001b[0m\u001b[1;33m\u001b[0m\u001b[1;33m\u001b[0m\u001b[1;33m\u001b[0m\u001b[0m\n",
      "\u001b[1;32mD:\\Ana3\\envs\\pytorch_1\\lib\\site-packages\\torch\\optim\\_functional.py\u001b[0m in \u001b[0;36msgd\u001b[1;34m(params, d_p_list, momentum_buffer_list, weight_decay, momentum, lr, dampening, nesterov)\u001b[0m\n\u001b[0;32m    167\u001b[0m                 \u001b[0mmomentum_buffer_list\u001b[0m\u001b[1;33m[\u001b[0m\u001b[0mi\u001b[0m\u001b[1;33m]\u001b[0m \u001b[1;33m=\u001b[0m \u001b[0mbuf\u001b[0m\u001b[1;33m\u001b[0m\u001b[1;33m\u001b[0m\u001b[0m\n\u001b[0;32m    168\u001b[0m             \u001b[1;32melse\u001b[0m\u001b[1;33m:\u001b[0m\u001b[1;33m\u001b[0m\u001b[1;33m\u001b[0m\u001b[0m\n\u001b[1;32m--> 169\u001b[1;33m                 \u001b[0mbuf\u001b[0m\u001b[1;33m.\u001b[0m\u001b[0mmul_\u001b[0m\u001b[1;33m(\u001b[0m\u001b[0mmomentum\u001b[0m\u001b[1;33m)\u001b[0m\u001b[1;33m.\u001b[0m\u001b[0madd_\u001b[0m\u001b[1;33m(\u001b[0m\u001b[0md_p\u001b[0m\u001b[1;33m,\u001b[0m \u001b[0malpha\u001b[0m\u001b[1;33m=\u001b[0m\u001b[1;36m1\u001b[0m \u001b[1;33m-\u001b[0m \u001b[0mdampening\u001b[0m\u001b[1;33m)\u001b[0m\u001b[1;33m\u001b[0m\u001b[1;33m\u001b[0m\u001b[0m\n\u001b[0m\u001b[0;32m    170\u001b[0m \u001b[1;33m\u001b[0m\u001b[0m\n\u001b[0;32m    171\u001b[0m             \u001b[1;32mif\u001b[0m \u001b[0mnesterov\u001b[0m\u001b[1;33m:\u001b[0m\u001b[1;33m\u001b[0m\u001b[1;33m\u001b[0m\u001b[0m\n",
      "\u001b[1;31mRuntimeError\u001b[0m: Expected all tensors to be on the same device, but found at least two devices, cuda:0 and cpu!"
     ]
    }
   ],
   "source": [
    "from torch.autograd import Variable\n",
    "import time\n",
    "import os\n",
    "os.environ['CUDA_VISIBLE_DEVICES'] = '0'\n",
    "\n",
    "for epoch in range(2):\n",
    "    running_loss = 0\n",
    "    start_time = time.time()\n",
    "    # 1-->输入数据\n",
    "    for i, data in enumerate(train_loader):  # 以一个batch为单位循环\n",
    "        images, labels = data\n",
    "        images, labels = Variable(images), Variable(labels)\n",
    "        if torch.cuda.is_available():\n",
    "            net.cuda()\n",
    "            images = images.cuda()\n",
    "            labels = labels.cuda()\n",
    "        optimizer.zero_grad()  # 梯度清零\n",
    "        # 2-->前向传播＋反向传播\n",
    "        outputs = net(images)\n",
    "        loss = criterion(outputs, labels)\n",
    "        loss.backward()\n",
    "\n",
    "        # 3-->更新参数\n",
    "        optimizer.step()\n",
    "\n",
    "        # 打印log信息\n",
    "        running_loss += loss.data\n",
    "        if i % 2000 == 1999:  # 每2000个batch打印一次训练信息\n",
    "            print('[%d %5d] loss: %.3f  time: %.3fs' % (epoch+1, i+1, running_loss/2000, time.time()-start_time))\n",
    "            running_loss = 0\n",
    "            start_time = time.time()\n",
    "print('Finish Training')"
   ]
  },
  {
   "cell_type": "code",
   "execution_count": null,
   "id": "victorian-affairs",
   "metadata": {},
   "outputs": [],
   "source": []
  }
 ],
 "metadata": {
  "kernelspec": {
   "display_name": "Python 3",
   "language": "python",
   "name": "python3"
  },
  "language_info": {
   "codemirror_mode": {
    "name": "ipython",
    "version": 3
   },
   "file_extension": ".py",
   "mimetype": "text/x-python",
   "name": "python",
   "nbconvert_exporter": "python",
   "pygments_lexer": "ipython3",
   "version": "3.6.13"
  }
 },
 "nbformat": 4,
 "nbformat_minor": 5
}
